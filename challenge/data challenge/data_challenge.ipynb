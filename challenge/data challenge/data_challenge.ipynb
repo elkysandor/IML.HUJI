{
  "cells": [
    {
      "cell_type": "code",
      "execution_count": 1,
      "metadata": {
        "colab": {
          "base_uri": "https://localhost:8080/"
        },
        "id": "jeuoq4QSSUtq",
        "outputId": "21b3bbb9-4270-4e49-8bbe-aa67f327a647"
      },
      "outputs": [
        {
          "output_type": "stream",
          "name": "stdout",
          "text": [
            "Running on CoLab\n"
          ]
        }
      ],
      "source": [
        "run_in_colab = False\n",
        "if 'google.colab' in str(get_ipython()):\n",
        "    run_in_colab = True\n",
        "    print('Running on CoLab')\n",
        "else:\n",
        "    print('Running locally on Jupyter')"
      ]
    },
    {
      "cell_type": "code",
      "execution_count": 2,
      "metadata": {
        "colab": {
          "base_uri": "https://localhost:8080/"
        },
        "id": "aWJruYl8Sjf-",
        "outputId": "975ec3f7-3187-4848-ac87-f2dc63ef3ee2"
      },
      "outputs": [
        {
          "output_type": "stream",
          "name": "stdout",
          "text": [
            "Mounted at /content/drive\n"
          ]
        }
      ],
      "source": [
        "if run_in_colab:\n",
        "    from google.colab import drive\n",
        "    drive.mount('/content/drive')\n",
        "else:  # Set local path \n",
        "    data_path = \"path/to/data_folder\""
      ]
    },
    {
      "cell_type": "code",
      "execution_count": 3,
      "metadata": {
        "colab": {
          "base_uri": "https://localhost:8080/",
          "height": 144,
          "resources": {
            "http://localhost:8080/nbextensions/google.colab/files.js": {
              "data": "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",
              "headers": [
                [
                  "content-type",
                  "application/javascript"
                ]
              ],
              "ok": true,
              "status": 200,
              "status_text": ""
            }
          }
        },
        "id": "lm0WXfnrSqqn",
        "outputId": "f36315fb-26e2-4b2f-baed-4f3c8567c7ce"
      },
      "outputs": [
        {
          "output_type": "display_data",
          "data": {
            "text/plain": [
              "<IPython.core.display.HTML object>"
            ],
            "text/html": [
              "\n",
              "     <input type=\"file\" id=\"files-38dc52e7-f8e8-4b74-acf2-70284773251d\" name=\"files[]\" multiple disabled\n",
              "        style=\"border:none\" />\n",
              "     <output id=\"result-38dc52e7-f8e8-4b74-acf2-70284773251d\">\n",
              "      Upload widget is only available when the cell has been executed in the\n",
              "      current browser session. Please rerun this cell to enable.\n",
              "      </output>\n",
              "      <script src=\"/nbextensions/google.colab/files.js\"></script> "
            ]
          },
          "metadata": {}
        },
        {
          "output_type": "stream",
          "name": "stdout",
          "text": [
            "Saving agoda_cancellation_train.csv to agoda_cancellation_train.csv\n",
            "Saving data_challenge_week_5.ipynb to data_challenge_week_5.ipynb\n",
            "Saving test_set_5_labels.csv to test_set_5_labels.csv\n"
          ]
        }
      ],
      "source": [
        "if run_in_colab:\n",
        "    from google.colab import files\n",
        "    uploaded = files.upload()"
      ]
    },
    {
      "cell_type": "code",
      "execution_count": 4,
      "metadata": {
        "id": "iSLls9RxPTgf"
      },
      "outputs": [],
      "source": [
        "# from challenge.agoda_cancellation_estimator import AgodaCancellationEstimator\n",
        "# from IMLearn.utils import split_train_test\n",
        "from sklearn.ensemble import RandomForestClassifier\n",
        "from sklearn.linear_model import LogisticRegression\n",
        "from sklearn.tree import DecisionTreeClassifier \n",
        "from sklearn.preprocessing import normalize\n",
        "from datetime import datetime\n",
        "import re\n",
        "import io\n",
        "import plotly\n",
        "import plotly.express as px\n",
        "import numpy as np\n",
        "import pandas as pd\n"
      ]
    },
    {
      "cell_type": "code",
      "execution_count": 20,
      "metadata": {
        "id": "hr8dtCPRPTmN"
      },
      "outputs": [],
      "source": [
        "COUNTRY_ALPHA2_TO_CONTINENT = {\n",
        "    \"TL\": \"Asia\",\n",
        "    'AB': 'Asia',\n",
        "    'AD': 'Europe',\n",
        "    'AE': 'Asia',\n",
        "    'AF': 'Asia',\n",
        "    'AG': 'North America',\n",
        "    'AI': 'North America',\n",
        "    'AL': 'Europe',\n",
        "    'AM': 'Asia',\n",
        "    'AO': 'Africa',\n",
        "    'AR': 'South America',\n",
        "    'AS': 'Oceania',\n",
        "    'AT': 'Europe',\n",
        "    'AU': 'Oceania',\n",
        "    'AW': 'North America',\n",
        "    'AX': 'Europe',\n",
        "    'AZ': 'Asia',\n",
        "    'BA': 'Europe',\n",
        "    'BB': 'North America',\n",
        "    'BD': 'Asia',\n",
        "    'BE': 'Europe',\n",
        "    'BF': 'Africa',\n",
        "    'BG': 'Europe',\n",
        "    'BH': 'Asia',\n",
        "    'BI': 'Africa',\n",
        "    'BJ': 'Africa',\n",
        "    'BL': 'North America',\n",
        "    'BM': 'North America',\n",
        "    'BN': 'Asia',\n",
        "    'BO': 'South America',\n",
        "    'BQ': 'North America',\n",
        "    'BR': 'South America',\n",
        "    'BS': 'North America',\n",
        "    'BT': 'Asia',\n",
        "    'BV': 'Antarctica',\n",
        "    'BW': 'Africa',\n",
        "    'BY': 'Europe',\n",
        "    'BZ': 'North America',\n",
        "    'CA': 'North America',\n",
        "    'CC': 'Asia',\n",
        "    'CD': 'Africa',\n",
        "    'CF': 'Africa',\n",
        "    'CG': 'Africa',\n",
        "    'CH': 'Europe',\n",
        "    'CI': 'Africa',\n",
        "    'CK': 'Oceania',\n",
        "    'CL': 'South America',\n",
        "    'CM': 'Africa',\n",
        "    'CN': 'Asia',\n",
        "    'CO': 'South America',\n",
        "    'CR': 'North America',\n",
        "    'CU': 'North America',\n",
        "    'CV': 'Africa',\n",
        "    'CW': 'North America',\n",
        "    'CX': 'Asia',\n",
        "    'CY': 'Asia',\n",
        "    'CZ': 'Europe',\n",
        "    'DE': 'Europe',\n",
        "    'DJ': 'Africa',\n",
        "    'DK': 'Europe',\n",
        "    'DM': 'North America',\n",
        "    'DO': 'North America',\n",
        "    'DZ': 'Africa',\n",
        "    'EC': 'South America',\n",
        "    'EE': 'Europe',\n",
        "    'EG': 'Africa',\n",
        "    'ER': 'Africa',\n",
        "    'ES': 'Europe',\n",
        "    'ET': 'Africa',\n",
        "    'FI': 'Europe',\n",
        "    'FJ': 'Oceania',\n",
        "    'FK': 'South America',\n",
        "    'FM': 'Oceania',\n",
        "    'FO': 'Europe',\n",
        "    'FR': 'Europe',\n",
        "    'GA': 'Africa',\n",
        "    'GB': 'Europe',\n",
        "    'GD': 'North America',\n",
        "    'GE': 'Asia',\n",
        "    'GF': 'South America',\n",
        "    'GG': 'Europe',\n",
        "    'GH': 'Africa',\n",
        "    'GI': 'Europe',\n",
        "    'GL': 'North America',\n",
        "    'GM': 'Africa',\n",
        "    'GN': 'Africa',\n",
        "    'GP': 'North America',\n",
        "    'GQ': 'Africa',\n",
        "    'GR': 'Europe',\n",
        "    'GS': 'South America',\n",
        "    'GT': 'North America',\n",
        "    'GU': 'Oceania',\n",
        "    'GW': 'Africa',\n",
        "    'GY': 'South America',\n",
        "    'HK': 'Asia',\n",
        "    'HM': 'Antarctica',\n",
        "    'HN': 'North America',\n",
        "    'HR': 'Europe',\n",
        "    'HT': 'North America',\n",
        "    'HU': 'Europe',\n",
        "    'ID': 'Asia',\n",
        "    'IE': 'Europe',\n",
        "    'IL': 'Asia',\n",
        "    'IM': 'Europe',\n",
        "    'IN': 'Asia',\n",
        "    'IO': 'Asia',\n",
        "    'IQ': 'Asia',\n",
        "    'IR': 'Asia',\n",
        "    'IS': 'Europe',\n",
        "    'IT': 'Europe',\n",
        "    'JE': 'Europe',\n",
        "    'JM': 'North America',\n",
        "    'JO': 'Asia',\n",
        "    'JP': 'Asia',\n",
        "    'KE': 'Africa',\n",
        "    'KG': 'Asia',\n",
        "    'KH': 'Asia',\n",
        "    'KI': 'Oceania',\n",
        "    'KM': 'Africa',\n",
        "    'KN': 'North America',\n",
        "    'KP': 'Asia',\n",
        "    'KR': 'Asia',\n",
        "    'KW': 'Asia',\n",
        "    'KY': 'North America',\n",
        "    'KZ': 'Asia',\n",
        "    'LA': 'Asia',\n",
        "    'LB': 'Asia',\n",
        "    'LC': 'North America',\n",
        "    'LI': 'Europe',\n",
        "    'LK': 'Asia',\n",
        "    'LR': 'Africa',\n",
        "    'LS': 'Africa',\n",
        "    'LT': 'Europe',\n",
        "    'LU': 'Europe',\n",
        "    'LV': 'Europe',\n",
        "    'LY': 'Africa',\n",
        "    'MA': 'Africa',\n",
        "    'MC': 'Europe',\n",
        "    'MD': 'Europe',\n",
        "    'ME': 'Europe',\n",
        "    'MF': 'North America',\n",
        "    'MG': 'Africa',\n",
        "    'MH': 'Oceania',\n",
        "    'MK': 'Europe',\n",
        "    'ML': 'Africa',\n",
        "    'MM': 'Asia',\n",
        "    'MN': 'Asia',\n",
        "    'MO': 'Asia',\n",
        "    'MP': 'Oceania',\n",
        "    'MQ': 'North America',\n",
        "    'MR': 'Africa',\n",
        "    'MS': 'North America',\n",
        "    'MT': 'Europe',\n",
        "    'MU': 'Africa',\n",
        "    'MV': 'Asia',\n",
        "    'MW': 'Africa',\n",
        "    'MX': 'North America',\n",
        "    'MY': 'Asia',\n",
        "    'MZ': 'Africa',\n",
        "    'NA': 'Africa',\n",
        "    'NC': 'Oceania',\n",
        "    'NE': 'Africa',\n",
        "    'NF': 'Oceania',\n",
        "    'NG': 'Africa',\n",
        "    'NI': 'North America',\n",
        "    'NL': 'Europe',\n",
        "    'NO': 'Europe',\n",
        "    'NP': 'Asia',\n",
        "    'NR': 'Oceania',\n",
        "    'NU': 'Oceania',\n",
        "    'NZ': 'Oceania',\n",
        "    'OM': 'Asia',\n",
        "    'OS': 'Asia',\n",
        "    'PA': 'North America',\n",
        "    'PE': 'South America',\n",
        "    'PF': 'Oceania',\n",
        "    'PG': 'Oceania',\n",
        "    'PH': 'Asia',\n",
        "    'PK': 'Asia',\n",
        "    'PL': 'Europe',\n",
        "    'PM': 'North America',\n",
        "    'PR': 'North America',\n",
        "    'PS': 'Asia',\n",
        "    'PT': 'Europe',\n",
        "    'PW': 'Oceania',\n",
        "    'PY': 'South America',\n",
        "    'QA': 'Asia',\n",
        "    'RE': 'Africa',\n",
        "    'RO': 'Europe',\n",
        "    'RS': 'Europe',\n",
        "    'RU': 'Europe',\n",
        "    'RW': 'Africa',\n",
        "    'SA': 'Asia',\n",
        "    'SB': 'Oceania',\n",
        "    'SC': 'Africa',\n",
        "    'SD': 'Africa',\n",
        "    'SE': 'Europe',\n",
        "    'SG': 'Asia',\n",
        "    'SH': 'Africa',\n",
        "    'SI': 'Europe',\n",
        "    'SJ': 'Europe',\n",
        "    'SK': 'Europe',\n",
        "    'SL': 'Africa',\n",
        "    'SM': 'Europe',\n",
        "    'SN': 'Africa',\n",
        "    'SO': 'Africa',\n",
        "    'SR': 'South America',\n",
        "    'SS': 'Africa',\n",
        "    'ST': 'Africa',\n",
        "    'SV': 'North America',\n",
        "    'SY': 'Asia',\n",
        "    'SZ': 'Africa',\n",
        "    'TC': 'North America',\n",
        "    'TD': 'Africa',\n",
        "    'TG': 'Africa',\n",
        "    'TH': 'Asia',\n",
        "    'TJ': 'Asia',\n",
        "    'TK': 'Oceania',\n",
        "    'TM': 'Asia',\n",
        "    'TN': 'Africa',\n",
        "    'TO': 'Oceania',\n",
        "    'TP': 'Asia',\n",
        "    'TR': 'Asia',\n",
        "    'TT': 'North America',\n",
        "    'TV': 'Oceania',\n",
        "    'TW': 'Asia',\n",
        "    'TZ': 'Africa',\n",
        "    'UA': 'Europe',\n",
        "    'UG': 'Africa',\n",
        "    'US': 'North America',\n",
        "    'UY': 'South America',\n",
        "    'UZ': 'Asia',\n",
        "    'VC': 'North America',\n",
        "    'VE': 'South America',\n",
        "    'VG': 'North America',\n",
        "    'VI': 'North America',\n",
        "    'VN': 'Asia',\n",
        "    'VU': 'Oceania',\n",
        "    'WF': 'Oceania',\n",
        "    'WS': 'Oceania',\n",
        "    'XK': 'Europe',\n",
        "    'YE': 'Asia',\n",
        "    'YT': 'Africa',\n",
        "    'ZA': 'Africa',\n",
        "    'ZM': 'Africa',\n",
        "    'ZW': 'Africa',\n",
        "    \"A1\": 'Unknown',\n",
        "    np.nan: \"Unknown\"\n",
        "}\n",
        "has_unique = ['charge_option', 'original_payment_type','continent',\"accommadation_type_name\"]\n",
        "\n",
        "bool_cols = ['is_user_logged_in', 'is_first_booking','hotel','resort']\n",
        "\n",
        "names_of_non_numeric_cols = ['hotel_country_code', 'accommadation_type_name',\n",
        "                                 'charge_option', 'customer_nationality',\n",
        "                                 'guest_nationality_country_name', 'origin_country_code', 'language',\n",
        "                                 'original_payment_method', 'original_payment_type',\n",
        "                                 'original_payment_currency', 'cancellation_policy_code']\n",
        "\n",
        "date_time_cols = ['booking_datetime', 'checkin_date', 'checkout_date',\n",
        "                      'hotel_live_date']\n"
      ]
    },
    {
      "cell_type": "code",
      "execution_count": 27,
      "metadata": {
        "id": "1Ar2skGZPYR8"
      },
      "outputs": [],
      "source": [
        "#not in use\n",
        "def compute_z_score(df):\n",
        "  return (df-df.mean())/df.std()\n",
        "\n",
        "def fillter_to_binary(val):\n",
        "    if val in [0,1,1.0,0.0] or np.isnan(val):\n",
        "        return True\n",
        "    return False\n",
        "\n",
        "#not in use\n",
        "def match_to_test_dat(df):\n",
        "  df1 = df[(df[\"charge_option\"]!='Pay at Check-in')]\n",
        "  df2 = df1[~(df1.accommadation_type_name.isin(['Pay at Check-in','Chalet','Holiday Park / Caravan Park','Homestay','Inn', 'Lodge', 'Love Hotel']))]\n",
        "  return df2\n",
        "#prase the policy str to 2 numeric features\n",
        "def prase_to_vec(lst,days):\n",
        "    vec=np.zeros(2)\n",
        "    if lst:\n",
        "      before_D = re.findall(r\"(\\d+)D\", \" \".join(lst))\n",
        "      before_N = re.findall(r\"(\\d+)N\", \" \".join(lst))\n",
        "      before_P = re.findall(r\"(\\d+)P\", \" \".join(lst))\n",
        "        # print(before_D)    \n",
        "      if before_D:\n",
        "          vec[0] = (np.array(before_D).astype(int)).mean()\n",
        "      if before_N:\n",
        "          vec[1] = (np.array(before_N).astype(int)).mean()\n",
        "      if before_P:\n",
        "          vec[1]+=((np.array(before_P).astype(int)*days)/100).astype(float).mean()\n",
        "      return vec\n",
        "    return [0,0]\n",
        "#not in use\n",
        "def counry_code_to_continent(contry):\n",
        "    return COUNTRY_ALPHA2_TO_CONTINENT[contry]\n",
        "\n",
        "def remove_not_showing(lst):\n",
        "    return [strr for strr in lst if \"D\" in strr]\n",
        "\n",
        "\n",
        "def date_type_process(df):\n",
        "  #same date features\n",
        "  df[\"day_year_checkin\"] = pd.to_datetime(df.checkin_date).dt.dayofyear\n",
        "  df[\"day_year_booked\"] = pd.to_datetime(df.booking_datetime).dt.dayofyear\n",
        "  df[\"days_before_checkin\"] = (pd.to_datetime(df.checkin_date)-pd.to_datetime(df.booking_datetime)).dt.days.abs()\n",
        "  #convert all date string to unix\n",
        "  for date_time_col_name in date_time_cols:\n",
        "      df[date_time_col_name] = (pd.to_datetime(df[date_time_col_name]).view(np.int64))/1000000000\n",
        "  # create num_of_booked_days col     \n",
        "  df['num_of_booked_days'] = df['checkout_date'] - df['checkin_date']\n",
        "  df['num_of_booked_days'] = df['num_of_booked_days']/(60*60*24) \n",
        "\n",
        "def add_dummies(df):\n",
        "  # add column of continent of each country  \n",
        "  df[\"continent\"] = df.origin_country_code.apply(counry_code_to_continent)\n",
        "  df['hotel'] = df.accommadation_type_name == \"Hotel\"\n",
        "  df['resort'] = df.accommadation_type_name == 'Resort'\n",
        "  for has_unique_col_name in has_unique:\n",
        "      one_hot = pd.get_dummies(df[has_unique_col_name])\n",
        "      df.drop(has_unique_col_name, axis=1,inplace=True)\n",
        "      df_with_dummies = df.join(one_hot)\n",
        "      return df_with_dummies\n",
        "\n",
        "def boolean_to_numeric(df):\n",
        "  for bool_col_name in bool_cols:\n",
        "      df[bool_col_name] = df[bool_col_name].astype(int)\n",
        "\n",
        "def embbeding_cancellation_policy(df):\n",
        "  # creating 2 features payment_late_cancellation & norm_of_cancellation_policy from policy cancellation(str)\n",
        "  str_vec = full_data.cancellation_policy_code.str.split(\"_\")\n",
        "  str_vec = str_vec.apply(remove_not_showing)\n",
        "  df1 = pd.DataFrame(list(pd.concat([str_vec,(full_data.num_of_booked_days)],axis=1).apply(lambda x: prase_to_vec(x[0], x[1]), axis=1)),columns=[\"D\",\"N\"])\n",
        "  df2 = pd.concat([df1[\"N\"],full_data[\"price_per_night\"]],axis=1)\n",
        "  full_data[\"payment_late_cancellation\"] = df2[\"N\"]*df2[\"price_per_night\"]\n",
        "  scale_df1 = df1/(365,30) #maxmin scale\n",
        "  full_data[\"norm_of_cancellation_policy\"]=np.linalg.norm(scale_df1,ord=1,axis=1)\n",
        "  full_data[\"days_befor_pay_cancellation\"] = df1.D\n",
        "\n",
        "\n"
      ]
    },
    {
      "cell_type": "code",
      "source": [
        "full_data = pd.read_csv(io.BytesIO(uploaded[\"agoda_cancellation_train.csv\"]))\n",
        "date_type_process(full_data)\n",
        "full_data = add_dummies(full_data)\n",
        "boolean_to_numeric(full_data)\n",
        "full_data[\"price_per_night\"] = full_data.original_selling_amount/full_data.num_of_booked_days\n",
        "embbeding_cancellation_policy(full_data)\n",
        "full_data.info() "
      ],
      "metadata": {
        "colab": {
          "base_uri": "https://localhost:8080/"
        },
        "id": "y3PIh_PD2UEQ",
        "outputId": "65b973ae-e0f1-4305-ec38-2298d580debb"
      },
      "execution_count": 30,
      "outputs": [
        {
          "output_type": "stream",
          "name": "stdout",
          "text": [
            "<class 'pandas.core.frame.DataFrame'>\n",
            "RangeIndex: 58659 entries, 0 to 58658\n",
            "Data columns (total 52 columns):\n",
            " #   Column                          Non-Null Count  Dtype  \n",
            "---  ------                          --------------  -----  \n",
            " 0   h_booking_id                    58659 non-null  int64  \n",
            " 1   booking_datetime                58659 non-null  float64\n",
            " 2   checkin_date                    58659 non-null  float64\n",
            " 3   checkout_date                   58659 non-null  float64\n",
            " 4   hotel_id                        58659 non-null  int64  \n",
            " 5   hotel_country_code              58655 non-null  object \n",
            " 6   hotel_live_date                 58659 non-null  float64\n",
            " 7   hotel_star_rating               58659 non-null  float64\n",
            " 8   accommadation_type_name         58659 non-null  object \n",
            " 9   h_customer_id                   58659 non-null  int64  \n",
            " 10  customer_nationality            58659 non-null  object \n",
            " 11  guest_is_not_the_customer       58659 non-null  int64  \n",
            " 12  guest_nationality_country_name  58659 non-null  object \n",
            " 13  no_of_adults                    58659 non-null  int64  \n",
            " 14  no_of_children                  58659 non-null  int64  \n",
            " 15  no_of_extra_bed                 58659 non-null  int64  \n",
            " 16  no_of_room                      58659 non-null  int64  \n",
            " 17  origin_country_code             58657 non-null  object \n",
            " 18  language                        58659 non-null  object \n",
            " 19  original_selling_amount         58659 non-null  float64\n",
            " 20  original_payment_method         58659 non-null  object \n",
            " 21  original_payment_type           58659 non-null  object \n",
            " 22  original_payment_currency       58659 non-null  object \n",
            " 23  is_user_logged_in               58659 non-null  int64  \n",
            " 24  cancellation_policy_code        58659 non-null  object \n",
            " 25  is_first_booking                58659 non-null  int64  \n",
            " 26  request_nonesmoke               33619 non-null  float64\n",
            " 27  request_latecheckin             33619 non-null  float64\n",
            " 28  request_highfloor               33619 non-null  float64\n",
            " 29  request_largebed                33619 non-null  float64\n",
            " 30  request_twinbeds                33619 non-null  float64\n",
            " 31  request_airport                 33619 non-null  float64\n",
            " 32  request_earlycheckin            33619 non-null  float64\n",
            " 33  cancellation_datetime           15764 non-null  object \n",
            " 34  hotel_area_code                 58659 non-null  int64  \n",
            " 35  hotel_brand_code                15303 non-null  float64\n",
            " 36  hotel_chain_code                15757 non-null  float64\n",
            " 37  hotel_city_code                 58659 non-null  int64  \n",
            " 38  day_year_checkin                58659 non-null  int64  \n",
            " 39  day_year_booked                 58659 non-null  int64  \n",
            " 40  days_before_checkin             58659 non-null  int64  \n",
            " 41  num_of_booked_days              58659 non-null  float64\n",
            " 42  continent                       58659 non-null  object \n",
            " 43  hotel                           58659 non-null  int64  \n",
            " 44  resort                          58659 non-null  int64  \n",
            " 45  Pay Later                       58659 non-null  uint8  \n",
            " 46  Pay Now                         58659 non-null  uint8  \n",
            " 47  Pay at Check-in                 58659 non-null  uint8  \n",
            " 48  price_per_night                 58659 non-null  float64\n",
            " 49  payment_late_cancellation       58659 non-null  float64\n",
            " 50  norm_of_cancellation_policy     58659 non-null  float64\n",
            " 51  days_befor_pay_cancellation     58659 non-null  float64\n",
            "dtypes: float64(20), int64(17), object(12), uint8(3)\n",
            "memory usage: 22.1+ MB\n"
          ]
        }
      ]
    },
    {
      "cell_type": "code",
      "execution_count": null,
      "metadata": {
        "id": "O68ht0lXRNTZ"
      },
      "outputs": [],
      "source": [
        "def data_preprocessing(full_data,train : bool):\n",
        "  #convert cancellation_datetime to binary clf\n",
        "  if train:\n",
        "    full_data.cancellation_datetime = full_data.cancellation_datetime.fillna(0).astype(bool).astype(int)\n",
        "  # remove h_booking_id \n",
        "  if \"h_booking_id\" in full_data.columns:\n",
        "    full_data = full_data.drop(columns=[\"h_booking_id\"],axis=1)\n",
        "  date_type_process(full_data)\n",
        "  full_data = add_dummies(full_data)\n",
        "  boolean_to_numeric(full_data)  \n",
        "  # calc price_per_night\n",
        "  full_data[\"price_per_night\"] = full_data.original_selling_amount/full_data.num_of_booked_days\n",
        "  embbeding_cancellation_policy(full_data)\n",
        "  full_data.fillna(0,inplace=True)\n",
        "  full_data[\"num_of_request\"] = (full_data.iloc[:,27:34] != 0).sum(axis=1)\n",
        "  return full_data"
      ]
    },
    {
      "cell_type": "code",
      "execution_count": null,
      "metadata": {
        "id": "3iqiwYLKPVD-"
      },
      "outputs": [],
      "source": [
        "\n",
        "def load_data(filename: str,train : bool):\n",
        "    \"\"\"\n",
        "    Load Agoda booking cancellation dataset\n",
        "    Parameters\n",
        "    ----------\n",
        "    filename: str\n",
        "        Path to house prices dataset\n",
        "\n",
        "    Returns\n",
        "    -------\n",
        "    Design matrix and response vector in either of the following formats:\n",
        "    1) Single dataframe with last column representing the response\n",
        "    2) Tuple of pandas.DataFrame and Series\n",
        "    3) Tuple of ndarray of shape (n_samples, n_features) and ndarray of shape (n_samples,)\n",
        "    \"\"\"\n",
        "    # TODO - replace below code with any desired preprocessing\n",
        "    if   run_in_colab and train:\n",
        "      full_data = pd.read_csv(io.BytesIO(uploaded[\"agoda_cancellation_train.csv\"]))\n",
        "    elif  run_in_colab and not train:\n",
        "      full_data = pd.read_csv(io.BytesIO(uploaded[\"test_set_week_5.csv\"]))\n",
        "    elif not run_in_colab and train:\n",
        "      full_data = pd.read_csv(data_path + filename)\n",
        "    else:  \n",
        "      full_data = pd.read_csv(data_path + filename)\n",
        "    full_data = data_preprocessing(full_data,train)\n",
        "    # one_hot_feature = [col_name for columns in one_hot_feature for col_name in columns if col_name not in bad_columns]\n",
        "    # we saw that num of rooms has high corr with num of adults so we can keep one of them.\n",
        "   \n",
        "    #original_payment_method, origin_country_code&guest_nationality_country_name, charge_option - add as features\n",
        "    \n",
        "    #looks like pyment method is not so informative becuase it is corralte with the comment ones\n",
        "    if train:\n",
        "      labels = full_data[\"cancellation_datetime\"]\n",
        "      return full_data, labels\n",
        "    return full_data\n",
        "\n",
        "\n"
      ]
    },
    {
      "cell_type": "code",
      "execution_count": null,
      "metadata": {
        "id": "ck8kzuyypdQr"
      },
      "outputs": [],
      "source": [
        "train_x,train_y = load_data(\"im on colab\",True)\n",
        "test_x = load_data(\"im on colab\",False)"
      ]
    },
    {
      "cell_type": "code",
      "execution_count": null,
      "metadata": {
        "id": "KX_vmoPHJzzq"
      },
      "outputs": [],
      "source": [
        "\n",
        "# full_data = pd.read_csv(io.BytesIO(uploaded[\"agoda_cancellation_train.csv\"]))\n",
        "# test_weak3 = pd.read_csv(io.BytesIO(uploaded[\"test_set_week_3.csv\"]))\n",
        "# test_weak3,one_hot_feature = data_preprocessing(test_weak3,False)\n",
        "# test_weak3.fillna(0,inplace=True)"
      ]
    },
    {
      "cell_type": "code",
      "execution_count": null,
      "metadata": {
        "colab": {
          "base_uri": "https://localhost:8080/"
        },
        "id": "qNIIAI5cZDdO",
        "outputId": "3ff288e9-a526-4212-a626-48d42c0fd4f6"
      },
      "outputs": [
        {
          "data": {
            "text/plain": [
              "0        1.530220e+09\n",
              "1        1.533940e+09\n",
              "2        1.536912e+09\n",
              "3        1.529912e+09\n",
              "4        1.532340e+09\n",
              "             ...     \n",
              "58654    1.531952e+09\n",
              "58655    1.536149e+09\n",
              "58656    1.528500e+09\n",
              "58657    1.535876e+09\n",
              "58658    1.530960e+09\n",
              "Name: booking_datetime, Length: 58659, dtype: float64"
            ]
          },
          "execution_count": 35,
          "metadata": {},
          "output_type": "execute_result"
        }
      ],
      "source": [
        "# test_weak2 = pd.read_csv(io.BytesIO(uploaded[\"test_set_week_2.csv\"]))\n",
        "# test_weak2,one_hot_feature = data_preprocessing(test_weak2,False)\n",
        "# test_weak2.fillna(0,inplace=True)\n",
        "# train_x.booking_datetime"
      ]
    },
    {
      "cell_type": "code",
      "execution_count": null,
      "metadata": {
        "colab": {
          "background_save": true
        },
        "id": "egvg1wtLJyfR"
      },
      "outputs": [],
      "source": [
        "small_good_features = ['norm_of_cancellation_policy', 'payment_late_cancellation','price_per_night','num_of_booked_days','days_befor_pay_cancellation'\n",
        ",'booking_datetime', 'checkin_date','hotel_star_rating','day_year_checkin',\n",
        "       'original_selling_amount', 'hotel_area_code',\n",
        "       'Pay Later', 'Pay Now','Asia', 'Hotel','Resort']#'Credit Card', 'Gift Card', 'Invoice', 'Europe', 'North America', 'Oceania','hotel_id'"
      ]
    },
    {
      "cell_type": "code",
      "execution_count": null,
      "metadata": {
        "colab": {
          "base_uri": "https://localhost:8080/"
        },
        "id": "-a-7K4FRLSY8",
        "outputId": "2a60c1ad-7c39-4c6f-e1d4-3f0d707bde06"
      },
      "outputs": [
        {
          "name": "stdout",
          "output_type": "stream",
          "text": [
            "      Iter       Train Loss   Remaining Time \n",
            "         1           1.1215           39.87s\n",
            "         2           1.0878           30.84s\n",
            "         3           1.0605           24.94s\n",
            "         4           1.0383           22.02s\n",
            "         5           1.0200           20.18s\n",
            "         6           1.0047           18.87s\n",
            "         7           0.9920           17.85s\n",
            "         8           0.9811           17.03s\n",
            "         9           0.9721           16.36s\n",
            "        10           0.9642           15.82s\n",
            "        20           0.9253           12.61s\n",
            "        30           0.9025           10.56s\n",
            "        40           0.8898            8.91s\n",
            "        50           0.8808            7.32s\n",
            "        60           0.8747            5.78s\n",
            "        70           0.8703            4.30s\n",
            "        80           0.8665            2.85s\n",
            "        90           0.8629            1.42s\n",
            "       100           0.8604            0.00s\n"
          ]
        }
      ],
      "source": [
        "\n",
        "from sklearn.ensemble import GradientBoostingClassifier\n",
        "model = GradientBoostingClassifier(n_estimators=100,verbose=1,random_state=0).fit(train_x[small_good_features],train_y)\n",
        "\n"
      ]
    },
    {
      "cell_type": "code",
      "execution_count": null,
      "metadata": {
        "colab": {
          "base_uri": "https://localhost:8080/"
        },
        "id": "DICbbr-4LoMO",
        "outputId": "95b0be70-ebad-4749-cfaa-a4200a3cd59f"
      },
      "outputs": [
        {
          "name": "stdout",
          "output_type": "stream",
          "text": [
            "0.5006847751654874\n"
          ]
        }
      ],
      "source": [
        "from sklearn.metrics import f1_score\n",
        "print(f1_score(model.predict(test_x[small_good_features]), labels4, average='macro'))\n"
      ]
    },
    {
      "cell_type": "code",
      "execution_count": null,
      "metadata": {
        "colab": {
          "base_uri": "https://localhost:8080/",
          "height": 17
        },
        "id": "vkX2wjF4RWDK",
        "outputId": "0edf2c52-0e98-4eb4-9659-9d0e94022795"
      },
      "outputs": [
        {
          "data": {
            "application/javascript": [
              "\n",
              "    async function download(id, filename, size) {\n",
              "      if (!google.colab.kernel.accessAllowed) {\n",
              "        return;\n",
              "      }\n",
              "      const div = document.createElement('div');\n",
              "      const label = document.createElement('label');\n",
              "      label.textContent = `Downloading \"${filename}\": `;\n",
              "      div.appendChild(label);\n",
              "      const progress = document.createElement('progress');\n",
              "      progress.max = size;\n",
              "      div.appendChild(progress);\n",
              "      document.body.appendChild(div);\n",
              "\n",
              "      const buffers = [];\n",
              "      let downloaded = 0;\n",
              "\n",
              "      const channel = await google.colab.kernel.comms.open(id);\n",
              "      // Send a message to notify the kernel that we're ready.\n",
              "      channel.send({})\n",
              "\n",
              "      for await (const message of channel.messages) {\n",
              "        // Send a message to notify the kernel that we're ready.\n",
              "        channel.send({})\n",
              "        if (message.buffers) {\n",
              "          for (const buffer of message.buffers) {\n",
              "            buffers.push(buffer);\n",
              "            downloaded += buffer.byteLength;\n",
              "            progress.value = downloaded;\n",
              "          }\n",
              "        }\n",
              "      }\n",
              "      const blob = new Blob(buffers, {type: 'application/binary'});\n",
              "      const a = document.createElement('a');\n",
              "      a.href = window.URL.createObjectURL(blob);\n",
              "      a.download = filename;\n",
              "      div.appendChild(a);\n",
              "      a.click();\n",
              "      div.remove();\n",
              "    }\n",
              "  "
            ],
            "text/plain": [
              "<IPython.core.display.Javascript object>"
            ]
          },
          "metadata": {},
          "output_type": "display_data"
        },
        {
          "data": {
            "application/javascript": [
              "download(\"download_2366b65e-91b2-4a94-8c1e-f5e6cbe776b2\", \"207047259_313450876_208346320.csv\", 1417)"
            ],
            "text/plain": [
              "<IPython.core.display.Javascript object>"
            ]
          },
          "metadata": {},
          "output_type": "display_data"
        }
      ],
      "source": [
        "from google.colab import files\n",
        "pd.DataFrame(model.predict(test_x[small_good_features]),columns=[\"predicted_values\"]).to_csv(\"207047259_313450876_208346320.csv\",index=False)\n",
        "files.download(\"207047259_313450876_208346320.csv\")"
      ]
    },
    {
      "cell_type": "code",
      "execution_count": null,
      "metadata": {
        "id": "yHCf-mqzgv2t"
      },
      "outputs": [],
      "source": [
        "# labels3 = pd.read_csv(io.BytesIO(uploaded[\"test_set_week_3_labels.csv\"]))\n",
        "# labels3 = (labels3.iloc[:,0]).map(lambda x: x[-1]).astype(int)\n",
        "# labels2 = pd.read_csv(io.BytesIO(uploaded[\"test_set_labels_week_2.csv\"]))\n",
        "# labels2 = (labels2.iloc[:,0]).map(lambda x: x[-1]).astype(int)\n",
        "labels4 = pd.read_csv(io.BytesIO(uploaded[\"test_set_week_4_labels.csv\"]))\n",
        "labels4 = (labels4.iloc[:,0]).map(lambda x: x[-1]).astype(int)\n",
        "labels4 = pd.read_csv(io.BytesIO(uploaded[\"test_set_5_labels.csv\"]))\n",
        "labels4 = (labels4.iloc[:,0]).map(lambda x: x[-1]).astype(int)"
      ]
    },
    {
      "cell_type": "code",
      "execution_count": null,
      "metadata": {
        "colab": {
          "base_uri": "https://localhost:8080/",
          "height": 632
        },
        "id": "rHP6WzzrbBW8",
        "outputId": "92df5619-f64f-460f-a217-ac7d2cb48c6e"
      },
      "outputs": [
        {
          "data": {
            "text/html": [
              "\n",
              "  <div id=\"df-88da86eb-2d04-4c26-a6fa-d5539c456599\">\n",
              "    <div class=\"colab-df-container\">\n",
              "      <div>\n",
              "<style scoped>\n",
              "    .dataframe tbody tr th:only-of-type {\n",
              "        vertical-align: middle;\n",
              "    }\n",
              "\n",
              "    .dataframe tbody tr th {\n",
              "        vertical-align: top;\n",
              "    }\n",
              "\n",
              "    .dataframe thead th {\n",
              "        text-align: right;\n",
              "    }\n",
              "</style>\n",
              "<table border=\"1\" class=\"dataframe\">\n",
              "  <thead>\n",
              "    <tr style=\"text-align: right;\">\n",
              "      <th></th>\n",
              "      <th>norm_of_cancellation_policy</th>\n",
              "      <th>payment_late_cancellation</th>\n",
              "      <th>price_per_night</th>\n",
              "      <th>num_of_booked_days</th>\n",
              "      <th>days_befor_pay_cancellation</th>\n",
              "      <th>booking_datetime</th>\n",
              "      <th>checkin_date</th>\n",
              "      <th>hotel_star_rating</th>\n",
              "      <th>day_year_checkin</th>\n",
              "      <th>original_selling_amount</th>\n",
              "      <th>hotel_area_code</th>\n",
              "      <th>Pay Later</th>\n",
              "      <th>Pay Now</th>\n",
              "      <th>Asia</th>\n",
              "      <th>Hotel</th>\n",
              "      <th>Resort</th>\n",
              "    </tr>\n",
              "  </thead>\n",
              "  <tbody>\n",
              "    <tr>\n",
              "      <th>norm_of_cancellation_policy</th>\n",
              "      <td>1.000000</td>\n",
              "      <td>0.101737</td>\n",
              "      <td>-0.026258</td>\n",
              "      <td>0.060930</td>\n",
              "      <td>0.995239</td>\n",
              "      <td>0.074970</td>\n",
              "      <td>-0.000803</td>\n",
              "      <td>0.118036</td>\n",
              "      <td>-0.000803</td>\n",
              "      <td>0.013669</td>\n",
              "      <td>-0.016503</td>\n",
              "      <td>-0.353112</td>\n",
              "      <td>0.353702</td>\n",
              "      <td>-0.033999</td>\n",
              "      <td>0.018472</td>\n",
              "      <td>0.040981</td>\n",
              "    </tr>\n",
              "    <tr>\n",
              "      <th>payment_late_cancellation</th>\n",
              "      <td>0.101737</td>\n",
              "      <td>1.000000</td>\n",
              "      <td>0.660743</td>\n",
              "      <td>0.271590</td>\n",
              "      <td>0.062539</td>\n",
              "      <td>-0.143607</td>\n",
              "      <td>-0.038006</td>\n",
              "      <td>0.189658</td>\n",
              "      <td>-0.038006</td>\n",
              "      <td>0.870997</td>\n",
              "      <td>-0.024534</td>\n",
              "      <td>0.027683</td>\n",
              "      <td>-0.027851</td>\n",
              "      <td>-0.082565</td>\n",
              "      <td>-0.006181</td>\n",
              "      <td>0.084322</td>\n",
              "    </tr>\n",
              "    <tr>\n",
              "      <th>price_per_night</th>\n",
              "      <td>-0.026258</td>\n",
              "      <td>0.660743</td>\n",
              "      <td>1.000000</td>\n",
              "      <td>0.055809</td>\n",
              "      <td>-0.030836</td>\n",
              "      <td>-0.204159</td>\n",
              "      <td>-0.036553</td>\n",
              "      <td>0.336534</td>\n",
              "      <td>-0.036553</td>\n",
              "      <td>0.730795</td>\n",
              "      <td>-0.034795</td>\n",
              "      <td>0.121657</td>\n",
              "      <td>-0.122287</td>\n",
              "      <td>-0.081899</td>\n",
              "      <td>0.007606</td>\n",
              "      <td>0.145772</td>\n",
              "    </tr>\n",
              "    <tr>\n",
              "      <th>num_of_booked_days</th>\n",
              "      <td>0.060930</td>\n",
              "      <td>0.271590</td>\n",
              "      <td>0.055809</td>\n",
              "      <td>1.000000</td>\n",
              "      <td>-0.002572</td>\n",
              "      <td>-0.212221</td>\n",
              "      <td>-0.077811</td>\n",
              "      <td>0.023118</td>\n",
              "      <td>-0.077811</td>\n",
              "      <td>0.415278</td>\n",
              "      <td>-0.002525</td>\n",
              "      <td>0.118264</td>\n",
              "      <td>-0.118858</td>\n",
              "      <td>-0.158208</td>\n",
              "      <td>-0.027977</td>\n",
              "      <td>0.010812</td>\n",
              "    </tr>\n",
              "    <tr>\n",
              "      <th>days_befor_pay_cancellation</th>\n",
              "      <td>0.995239</td>\n",
              "      <td>0.062539</td>\n",
              "      <td>-0.030836</td>\n",
              "      <td>-0.002572</td>\n",
              "      <td>1.000000</td>\n",
              "      <td>0.088619</td>\n",
              "      <td>0.004635</td>\n",
              "      <td>0.116551</td>\n",
              "      <td>0.004635</td>\n",
              "      <td>-0.015264</td>\n",
              "      <td>-0.015969</td>\n",
              "      <td>-0.356997</td>\n",
              "      <td>0.357593</td>\n",
              "      <td>-0.024108</td>\n",
              "      <td>0.023151</td>\n",
              "      <td>0.038449</td>\n",
              "    </tr>\n",
              "    <tr>\n",
              "      <th>booking_datetime</th>\n",
              "      <td>0.074970</td>\n",
              "      <td>-0.143607</td>\n",
              "      <td>-0.204159</td>\n",
              "      <td>-0.212221</td>\n",
              "      <td>0.088619</td>\n",
              "      <td>1.000000</td>\n",
              "      <td>0.487065</td>\n",
              "      <td>-0.074300</td>\n",
              "      <td>0.487065</td>\n",
              "      <td>-0.200503</td>\n",
              "      <td>0.020999</td>\n",
              "      <td>-0.288715</td>\n",
              "      <td>0.291712</td>\n",
              "      <td>0.098269</td>\n",
              "      <td>0.037890</td>\n",
              "      <td>-0.080496</td>\n",
              "    </tr>\n",
              "    <tr>\n",
              "      <th>checkin_date</th>\n",
              "      <td>-0.000803</td>\n",
              "      <td>-0.038006</td>\n",
              "      <td>-0.036553</td>\n",
              "      <td>-0.077811</td>\n",
              "      <td>0.004635</td>\n",
              "      <td>0.487065</td>\n",
              "      <td>1.000000</td>\n",
              "      <td>-0.018201</td>\n",
              "      <td>1.000000</td>\n",
              "      <td>-0.054002</td>\n",
              "      <td>0.004537</td>\n",
              "      <td>0.000655</td>\n",
              "      <td>-0.000451</td>\n",
              "      <td>0.013687</td>\n",
              "      <td>0.013907</td>\n",
              "      <td>-0.020644</td>\n",
              "    </tr>\n",
              "    <tr>\n",
              "      <th>hotel_star_rating</th>\n",
              "      <td>0.118036</td>\n",
              "      <td>0.189658</td>\n",
              "      <td>0.336534</td>\n",
              "      <td>0.023118</td>\n",
              "      <td>0.116551</td>\n",
              "      <td>-0.074300</td>\n",
              "      <td>-0.018201</td>\n",
              "      <td>1.000000</td>\n",
              "      <td>-0.018201</td>\n",
              "      <td>0.203281</td>\n",
              "      <td>-0.001609</td>\n",
              "      <td>0.069246</td>\n",
              "      <td>-0.068979</td>\n",
              "      <td>0.016085</td>\n",
              "      <td>0.184254</td>\n",
              "      <td>0.154836</td>\n",
              "    </tr>\n",
              "    <tr>\n",
              "      <th>day_year_checkin</th>\n",
              "      <td>-0.000803</td>\n",
              "      <td>-0.038006</td>\n",
              "      <td>-0.036553</td>\n",
              "      <td>-0.077811</td>\n",
              "      <td>0.004635</td>\n",
              "      <td>0.487065</td>\n",
              "      <td>1.000000</td>\n",
              "      <td>-0.018201</td>\n",
              "      <td>1.000000</td>\n",
              "      <td>-0.054002</td>\n",
              "      <td>0.004537</td>\n",
              "      <td>0.000655</td>\n",
              "      <td>-0.000451</td>\n",
              "      <td>0.013687</td>\n",
              "      <td>0.013907</td>\n",
              "      <td>-0.020644</td>\n",
              "    </tr>\n",
              "    <tr>\n",
              "      <th>original_selling_amount</th>\n",
              "      <td>0.013669</td>\n",
              "      <td>0.870997</td>\n",
              "      <td>0.730795</td>\n",
              "      <td>0.415278</td>\n",
              "      <td>-0.015264</td>\n",
              "      <td>-0.200503</td>\n",
              "      <td>-0.054002</td>\n",
              "      <td>0.203281</td>\n",
              "      <td>-0.054002</td>\n",
              "      <td>1.000000</td>\n",
              "      <td>-0.022963</td>\n",
              "      <td>0.105124</td>\n",
              "      <td>-0.105561</td>\n",
              "      <td>-0.105700</td>\n",
              "      <td>0.004775</td>\n",
              "      <td>0.080524</td>\n",
              "    </tr>\n",
              "    <tr>\n",
              "      <th>hotel_area_code</th>\n",
              "      <td>-0.016503</td>\n",
              "      <td>-0.024534</td>\n",
              "      <td>-0.034795</td>\n",
              "      <td>-0.002525</td>\n",
              "      <td>-0.015969</td>\n",
              "      <td>0.020999</td>\n",
              "      <td>0.004537</td>\n",
              "      <td>-0.001609</td>\n",
              "      <td>0.004537</td>\n",
              "      <td>-0.022963</td>\n",
              "      <td>1.000000</td>\n",
              "      <td>-0.003038</td>\n",
              "      <td>0.003435</td>\n",
              "      <td>-0.010211</td>\n",
              "      <td>-0.011831</td>\n",
              "      <td>-0.011682</td>\n",
              "    </tr>\n",
              "    <tr>\n",
              "      <th>Pay Later</th>\n",
              "      <td>-0.353112</td>\n",
              "      <td>0.027683</td>\n",
              "      <td>0.121657</td>\n",
              "      <td>0.118264</td>\n",
              "      <td>-0.356997</td>\n",
              "      <td>-0.288715</td>\n",
              "      <td>0.000655</td>\n",
              "      <td>0.069246</td>\n",
              "      <td>0.000655</td>\n",
              "      <td>0.105124</td>\n",
              "      <td>-0.003038</td>\n",
              "      <td>1.000000</td>\n",
              "      <td>-0.998396</td>\n",
              "      <td>0.009322</td>\n",
              "      <td>-0.009102</td>\n",
              "      <td>0.031039</td>\n",
              "    </tr>\n",
              "    <tr>\n",
              "      <th>Pay Now</th>\n",
              "      <td>0.353702</td>\n",
              "      <td>-0.027851</td>\n",
              "      <td>-0.122287</td>\n",
              "      <td>-0.118858</td>\n",
              "      <td>0.357593</td>\n",
              "      <td>0.291712</td>\n",
              "      <td>-0.000451</td>\n",
              "      <td>-0.068979</td>\n",
              "      <td>-0.000451</td>\n",
              "      <td>-0.105561</td>\n",
              "      <td>0.003435</td>\n",
              "      <td>-0.998396</td>\n",
              "      <td>1.000000</td>\n",
              "      <td>-0.009327</td>\n",
              "      <td>0.008966</td>\n",
              "      <td>-0.031098</td>\n",
              "    </tr>\n",
              "    <tr>\n",
              "      <th>Asia</th>\n",
              "      <td>-0.033999</td>\n",
              "      <td>-0.082565</td>\n",
              "      <td>-0.081899</td>\n",
              "      <td>-0.158208</td>\n",
              "      <td>-0.024108</td>\n",
              "      <td>0.098269</td>\n",
              "      <td>0.013687</td>\n",
              "      <td>0.016085</td>\n",
              "      <td>0.013687</td>\n",
              "      <td>-0.105700</td>\n",
              "      <td>-0.010211</td>\n",
              "      <td>0.009322</td>\n",
              "      <td>-0.009327</td>\n",
              "      <td>1.000000</td>\n",
              "      <td>0.028996</td>\n",
              "      <td>0.001144</td>\n",
              "    </tr>\n",
              "    <tr>\n",
              "      <th>Hotel</th>\n",
              "      <td>0.018472</td>\n",
              "      <td>-0.006181</td>\n",
              "      <td>0.007606</td>\n",
              "      <td>-0.027977</td>\n",
              "      <td>0.023151</td>\n",
              "      <td>0.037890</td>\n",
              "      <td>0.013907</td>\n",
              "      <td>0.184254</td>\n",
              "      <td>0.013907</td>\n",
              "      <td>0.004775</td>\n",
              "      <td>-0.011831</td>\n",
              "      <td>-0.009102</td>\n",
              "      <td>0.008966</td>\n",
              "      <td>0.028996</td>\n",
              "      <td>1.000000</td>\n",
              "      <td>-0.537244</td>\n",
              "    </tr>\n",
              "    <tr>\n",
              "      <th>Resort</th>\n",
              "      <td>0.040981</td>\n",
              "      <td>0.084322</td>\n",
              "      <td>0.145772</td>\n",
              "      <td>0.010812</td>\n",
              "      <td>0.038449</td>\n",
              "      <td>-0.080496</td>\n",
              "      <td>-0.020644</td>\n",
              "      <td>0.154836</td>\n",
              "      <td>-0.020644</td>\n",
              "      <td>0.080524</td>\n",
              "      <td>-0.011682</td>\n",
              "      <td>0.031039</td>\n",
              "      <td>-0.031098</td>\n",
              "      <td>0.001144</td>\n",
              "      <td>-0.537244</td>\n",
              "      <td>1.000000</td>\n",
              "    </tr>\n",
              "  </tbody>\n",
              "</table>\n",
              "</div>\n",
              "      <button class=\"colab-df-convert\" onclick=\"convertToInteractive('df-88da86eb-2d04-4c26-a6fa-d5539c456599')\"\n",
              "              title=\"Convert this dataframe to an interactive table.\"\n",
              "              style=\"display:none;\">\n",
              "        \n",
              "  <svg xmlns=\"http://www.w3.org/2000/svg\" height=\"24px\"viewBox=\"0 0 24 24\"\n",
              "       width=\"24px\">\n",
              "    <path d=\"M0 0h24v24H0V0z\" fill=\"none\"/>\n",
              "    <path d=\"M18.56 5.44l.94 2.06.94-2.06 2.06-.94-2.06-.94-.94-2.06-.94 2.06-2.06.94zm-11 1L8.5 8.5l.94-2.06 2.06-.94-2.06-.94L8.5 2.5l-.94 2.06-2.06.94zm10 10l.94 2.06.94-2.06 2.06-.94-2.06-.94-.94-2.06-.94 2.06-2.06.94z\"/><path d=\"M17.41 7.96l-1.37-1.37c-.4-.4-.92-.59-1.43-.59-.52 0-1.04.2-1.43.59L10.3 9.45l-7.72 7.72c-.78.78-.78 2.05 0 2.83L4 21.41c.39.39.9.59 1.41.59.51 0 1.02-.2 1.41-.59l7.78-7.78 2.81-2.81c.8-.78.8-2.07 0-2.86zM5.41 20L4 18.59l7.72-7.72 1.47 1.35L5.41 20z\"/>\n",
              "  </svg>\n",
              "      </button>\n",
              "      \n",
              "  <style>\n",
              "    .colab-df-container {\n",
              "      display:flex;\n",
              "      flex-wrap:wrap;\n",
              "      gap: 12px;\n",
              "    }\n",
              "\n",
              "    .colab-df-convert {\n",
              "      background-color: #E8F0FE;\n",
              "      border: none;\n",
              "      border-radius: 50%;\n",
              "      cursor: pointer;\n",
              "      display: none;\n",
              "      fill: #1967D2;\n",
              "      height: 32px;\n",
              "      padding: 0 0 0 0;\n",
              "      width: 32px;\n",
              "    }\n",
              "\n",
              "    .colab-df-convert:hover {\n",
              "      background-color: #E2EBFA;\n",
              "      box-shadow: 0px 1px 2px rgba(60, 64, 67, 0.3), 0px 1px 3px 1px rgba(60, 64, 67, 0.15);\n",
              "      fill: #174EA6;\n",
              "    }\n",
              "\n",
              "    [theme=dark] .colab-df-convert {\n",
              "      background-color: #3B4455;\n",
              "      fill: #D2E3FC;\n",
              "    }\n",
              "\n",
              "    [theme=dark] .colab-df-convert:hover {\n",
              "      background-color: #434B5C;\n",
              "      box-shadow: 0px 1px 3px 1px rgba(0, 0, 0, 0.15);\n",
              "      filter: drop-shadow(0px 1px 2px rgba(0, 0, 0, 0.3));\n",
              "      fill: #FFFFFF;\n",
              "    }\n",
              "  </style>\n",
              "\n",
              "      <script>\n",
              "        const buttonEl =\n",
              "          document.querySelector('#df-88da86eb-2d04-4c26-a6fa-d5539c456599 button.colab-df-convert');\n",
              "        buttonEl.style.display =\n",
              "          google.colab.kernel.accessAllowed ? 'block' : 'none';\n",
              "\n",
              "        async function convertToInteractive(key) {\n",
              "          const element = document.querySelector('#df-88da86eb-2d04-4c26-a6fa-d5539c456599');\n",
              "          const dataTable =\n",
              "            await google.colab.kernel.invokeFunction('convertToInteractive',\n",
              "                                                     [key], {});\n",
              "          if (!dataTable) return;\n",
              "\n",
              "          const docLinkHtml = 'Like what you see? Visit the ' +\n",
              "            '<a target=\"_blank\" href=https://colab.research.google.com/notebooks/data_table.ipynb>data table notebook</a>'\n",
              "            + ' to learn more about interactive tables.';\n",
              "          element.innerHTML = '';\n",
              "          dataTable['output_type'] = 'display_data';\n",
              "          await google.colab.output.renderOutput(dataTable, element);\n",
              "          const docLink = document.createElement('div');\n",
              "          docLink.innerHTML = docLinkHtml;\n",
              "          element.appendChild(docLink);\n",
              "        }\n",
              "      </script>\n",
              "    </div>\n",
              "  </div>\n",
              "  "
            ],
            "text/plain": [
              "                             norm_of_cancellation_policy  \\\n",
              "norm_of_cancellation_policy                     1.000000   \n",
              "payment_late_cancellation                       0.101737   \n",
              "price_per_night                                -0.026258   \n",
              "num_of_booked_days                              0.060930   \n",
              "days_befor_pay_cancellation                     0.995239   \n",
              "booking_datetime                                0.074970   \n",
              "checkin_date                                   -0.000803   \n",
              "hotel_star_rating                               0.118036   \n",
              "day_year_checkin                               -0.000803   \n",
              "original_selling_amount                         0.013669   \n",
              "hotel_area_code                                -0.016503   \n",
              "Pay Later                                      -0.353112   \n",
              "Pay Now                                         0.353702   \n",
              "Asia                                           -0.033999   \n",
              "Hotel                                           0.018472   \n",
              "Resort                                          0.040981   \n",
              "\n",
              "                             payment_late_cancellation  price_per_night  \\\n",
              "norm_of_cancellation_policy                   0.101737        -0.026258   \n",
              "payment_late_cancellation                     1.000000         0.660743   \n",
              "price_per_night                               0.660743         1.000000   \n",
              "num_of_booked_days                            0.271590         0.055809   \n",
              "days_befor_pay_cancellation                   0.062539        -0.030836   \n",
              "booking_datetime                             -0.143607        -0.204159   \n",
              "checkin_date                                 -0.038006        -0.036553   \n",
              "hotel_star_rating                             0.189658         0.336534   \n",
              "day_year_checkin                             -0.038006        -0.036553   \n",
              "original_selling_amount                       0.870997         0.730795   \n",
              "hotel_area_code                              -0.024534        -0.034795   \n",
              "Pay Later                                     0.027683         0.121657   \n",
              "Pay Now                                      -0.027851        -0.122287   \n",
              "Asia                                         -0.082565        -0.081899   \n",
              "Hotel                                        -0.006181         0.007606   \n",
              "Resort                                        0.084322         0.145772   \n",
              "\n",
              "                             num_of_booked_days  days_befor_pay_cancellation  \\\n",
              "norm_of_cancellation_policy            0.060930                     0.995239   \n",
              "payment_late_cancellation              0.271590                     0.062539   \n",
              "price_per_night                        0.055809                    -0.030836   \n",
              "num_of_booked_days                     1.000000                    -0.002572   \n",
              "days_befor_pay_cancellation           -0.002572                     1.000000   \n",
              "booking_datetime                      -0.212221                     0.088619   \n",
              "checkin_date                          -0.077811                     0.004635   \n",
              "hotel_star_rating                      0.023118                     0.116551   \n",
              "day_year_checkin                      -0.077811                     0.004635   \n",
              "original_selling_amount                0.415278                    -0.015264   \n",
              "hotel_area_code                       -0.002525                    -0.015969   \n",
              "Pay Later                              0.118264                    -0.356997   \n",
              "Pay Now                               -0.118858                     0.357593   \n",
              "Asia                                  -0.158208                    -0.024108   \n",
              "Hotel                                 -0.027977                     0.023151   \n",
              "Resort                                 0.010812                     0.038449   \n",
              "\n",
              "                             booking_datetime  checkin_date  \\\n",
              "norm_of_cancellation_policy          0.074970     -0.000803   \n",
              "payment_late_cancellation           -0.143607     -0.038006   \n",
              "price_per_night                     -0.204159     -0.036553   \n",
              "num_of_booked_days                  -0.212221     -0.077811   \n",
              "days_befor_pay_cancellation          0.088619      0.004635   \n",
              "booking_datetime                     1.000000      0.487065   \n",
              "checkin_date                         0.487065      1.000000   \n",
              "hotel_star_rating                   -0.074300     -0.018201   \n",
              "day_year_checkin                     0.487065      1.000000   \n",
              "original_selling_amount             -0.200503     -0.054002   \n",
              "hotel_area_code                      0.020999      0.004537   \n",
              "Pay Later                           -0.288715      0.000655   \n",
              "Pay Now                              0.291712     -0.000451   \n",
              "Asia                                 0.098269      0.013687   \n",
              "Hotel                                0.037890      0.013907   \n",
              "Resort                              -0.080496     -0.020644   \n",
              "\n",
              "                             hotel_star_rating  day_year_checkin  \\\n",
              "norm_of_cancellation_policy           0.118036         -0.000803   \n",
              "payment_late_cancellation             0.189658         -0.038006   \n",
              "price_per_night                       0.336534         -0.036553   \n",
              "num_of_booked_days                    0.023118         -0.077811   \n",
              "days_befor_pay_cancellation           0.116551          0.004635   \n",
              "booking_datetime                     -0.074300          0.487065   \n",
              "checkin_date                         -0.018201          1.000000   \n",
              "hotel_star_rating                     1.000000         -0.018201   \n",
              "day_year_checkin                     -0.018201          1.000000   \n",
              "original_selling_amount               0.203281         -0.054002   \n",
              "hotel_area_code                      -0.001609          0.004537   \n",
              "Pay Later                             0.069246          0.000655   \n",
              "Pay Now                              -0.068979         -0.000451   \n",
              "Asia                                  0.016085          0.013687   \n",
              "Hotel                                 0.184254          0.013907   \n",
              "Resort                                0.154836         -0.020644   \n",
              "\n",
              "                             original_selling_amount  hotel_area_code  \\\n",
              "norm_of_cancellation_policy                 0.013669        -0.016503   \n",
              "payment_late_cancellation                   0.870997        -0.024534   \n",
              "price_per_night                             0.730795        -0.034795   \n",
              "num_of_booked_days                          0.415278        -0.002525   \n",
              "days_befor_pay_cancellation                -0.015264        -0.015969   \n",
              "booking_datetime                           -0.200503         0.020999   \n",
              "checkin_date                               -0.054002         0.004537   \n",
              "hotel_star_rating                           0.203281        -0.001609   \n",
              "day_year_checkin                           -0.054002         0.004537   \n",
              "original_selling_amount                     1.000000        -0.022963   \n",
              "hotel_area_code                            -0.022963         1.000000   \n",
              "Pay Later                                   0.105124        -0.003038   \n",
              "Pay Now                                    -0.105561         0.003435   \n",
              "Asia                                       -0.105700        -0.010211   \n",
              "Hotel                                       0.004775        -0.011831   \n",
              "Resort                                      0.080524        -0.011682   \n",
              "\n",
              "                             Pay Later   Pay Now      Asia     Hotel    Resort  \n",
              "norm_of_cancellation_policy  -0.353112  0.353702 -0.033999  0.018472  0.040981  \n",
              "payment_late_cancellation     0.027683 -0.027851 -0.082565 -0.006181  0.084322  \n",
              "price_per_night               0.121657 -0.122287 -0.081899  0.007606  0.145772  \n",
              "num_of_booked_days            0.118264 -0.118858 -0.158208 -0.027977  0.010812  \n",
              "days_befor_pay_cancellation  -0.356997  0.357593 -0.024108  0.023151  0.038449  \n",
              "booking_datetime             -0.288715  0.291712  0.098269  0.037890 -0.080496  \n",
              "checkin_date                  0.000655 -0.000451  0.013687  0.013907 -0.020644  \n",
              "hotel_star_rating             0.069246 -0.068979  0.016085  0.184254  0.154836  \n",
              "day_year_checkin              0.000655 -0.000451  0.013687  0.013907 -0.020644  \n",
              "original_selling_amount       0.105124 -0.105561 -0.105700  0.004775  0.080524  \n",
              "hotel_area_code              -0.003038  0.003435 -0.010211 -0.011831 -0.011682  \n",
              "Pay Later                     1.000000 -0.998396  0.009322 -0.009102  0.031039  \n",
              "Pay Now                      -0.998396  1.000000 -0.009327  0.008966 -0.031098  \n",
              "Asia                          0.009322 -0.009327  1.000000  0.028996  0.001144  \n",
              "Hotel                        -0.009102  0.008966  0.028996  1.000000 -0.537244  \n",
              "Resort                        0.031039 -0.031098  0.001144 -0.537244  1.000000  "
            ]
          },
          "execution_count": 384,
          "metadata": {},
          "output_type": "execute_result"
        }
      ],
      "source": [
        "# play_week_3 =  pd.concat((test_weak3,labels),axis=1)\n",
        "# play_week_3[small_good_features].describe()\n",
        "train_x[small_good_features].corr()"
      ]
    },
    {
      "cell_type": "code",
      "execution_count": null,
      "metadata": {
        "colab": {
          "base_uri": "https://localhost:8080/"
        },
        "id": "6SJm5IJyaJiH",
        "outputId": "36fd89d9-c552-4064-b59d-9c901369a2b4"
      },
      "outputs": [
        {
          "data": {
            "text/plain": [
              "468"
            ]
          },
          "execution_count": 374,
          "metadata": {},
          "output_type": "execute_result"
        }
      ],
      "source": [
        "# test_weak2.Hotel.sum()"
      ]
    },
    {
      "cell_type": "code",
      "execution_count": null,
      "metadata": {
        "colab": {
          "base_uri": "https://localhost:8080/"
        },
        "id": "7xrTgdk0F_ut",
        "outputId": "a281df0b-0e60-4f3e-ad0d-84395742a6f7"
      },
      "outputs": [
        {
          "data": {
            "text/plain": [
              "SelectFromModel(estimator=GradientBoostingClassifier(n_estimators=50))"
            ]
          },
          "execution_count": 149,
          "metadata": {},
          "output_type": "execute_result"
        }
      ],
      "source": [
        "# from sklearn.feature_selection import SelectFromModel\n",
        "# sel = SelectFromModel(GradientBoostingClassifier(n_estimators = 50))\n",
        "# sel.fit(train_x.select_dtypes(exclude=['object']), train_y)"
      ]
    },
    {
      "cell_type": "code",
      "execution_count": null,
      "metadata": {
        "colab": {
          "base_uri": "https://localhost:8080/"
        },
        "id": "uckthjHNk0uU",
        "outputId": "b304bfc8-5022-41ca-a05b-8fb07bde1fd4"
      },
      "outputs": [
        {
          "data": {
            "text/plain": [
              "array([1.47673195e-01, 4.48952800e-03, 6.93780695e-03, 1.70385154e-02,\n",
              "       3.76137506e-02, 1.80236879e-01, 2.26668776e-02, 1.48785833e-02,\n",
              "       2.47081431e-02, 2.22252172e-02, 2.34782494e-03, 1.70511496e-02,\n",
              "       4.88887796e-01, 9.50539405e-03, 3.35636494e-03, 3.82975208e-04])"
            ]
          },
          "execution_count": 367,
          "metadata": {},
          "output_type": "execute_result"
        }
      ],
      "source": [
        "model.feature_importances_"
      ]
    },
    {
      "cell_type": "code",
      "execution_count": null,
      "metadata": {
        "colab": {
          "base_uri": "https://localhost:8080/",
          "height": 35
        },
        "id": "sNQmmfskkqqq",
        "outputId": "24845758-fc90-4782-f9e0-522d353d7d54"
      },
      "outputs": [
        {
          "data": {
            "application/vnd.google.colaboratory.intrinsic+json": {
              "type": "string"
            },
            "text/plain": [
              "'Resort'"
            ]
          },
          "execution_count": 368,
          "metadata": {},
          "output_type": "execute_result"
        }
      ],
      "source": [
        "small_good_features[-1]"
      ]
    },
    {
      "cell_type": "code",
      "execution_count": null,
      "metadata": {
        "id": "ZmDt1AZX3tU2"
      },
      "outputs": [],
      "source": [
        "def "
      ]
    },
    {
      "cell_type": "code",
      "execution_count": null,
      "metadata": {
        "id": "iWmLCSkHuOu1"
      },
      "outputs": [],
      "source": [
        "# train_x.columns.size"
      ]
    },
    {
      "cell_type": "code",
      "execution_count": null,
      "metadata": {
        "id": "IFNs1sUQrpD1"
      },
      "outputs": [],
      "source": [
        "# [\"newton-cg\",\"lbfgs\", \"liblinear\", \"sag\", \"saga\"]\n",
        "# lr_clf = LogisticRegression(solver=\"lbfgs\")\n",
        "# dec_tree = DecisionTreeClassifier(min_samples_split=4)\n",
        "# tree = dec_tree.fit(train_x, train_y)\n",
        "# lr_clf.fit(train_x, train_y)\n"
      ]
    },
    {
      "cell_type": "code",
      "execution_count": null,
      "metadata": {
        "colab": {
          "base_uri": "https://localhost:8080/"
        },
        "id": "jnQxtRpcum0F",
        "outputId": "2c46a39e-80b8-47e8-af49-3274be6dd124"
      },
      "outputs": [
        {
          "data": {
            "text/plain": [
              "0.8714285714285714"
            ]
          },
          "execution_count": 46,
          "metadata": {},
          "output_type": "execute_result"
        }
      ],
      "source": [
        "# forest_cl = clf = RandomForestClassifier(n_estimators=50)\n",
        "# forest = forest_cl.fit(X=train_x,y=train_y)\n",
        "# forest.score(test_x,labels)"
      ]
    },
    {
      "cell_type": "code",
      "execution_count": null,
      "metadata": {
        "colab": {
          "base_uri": "https://localhost:8080/"
        },
        "id": "tsJ3DuDz7kPo",
        "outputId": "c27f7b98-6b3e-448d-da89-01e612869c1d"
      },
      "outputs": [
        {
          "data": {
            "text/plain": [
              "0.486820240461373"
            ]
          },
          "execution_count": 47,
          "metadata": {},
          "output_type": "execute_result"
        }
      ],
      "source": [
        "# f1_score(forest.predict(test_x), labels, average='macro')"
      ]
    },
    {
      "cell_type": "code",
      "execution_count": null,
      "metadata": {
        "colab": {
          "base_uri": "https://localhost:8080/",
          "height": 186
        },
        "id": "T94h_cVOu_jk",
        "outputId": "ce46b555-e5bd-4f0a-9ec7-1fe3ca2c5b39"
      },
      "outputs": [
        {
          "ename": "NameError",
          "evalue": "ignored",
          "output_type": "error",
          "traceback": [
            "\u001b[0;31m---------------------------------------------------------------------------\u001b[0m",
            "\u001b[0;31mNameError\u001b[0m                                 Traceback (most recent call last)",
            "\u001b[0;32m<ipython-input-45-bfa22990538e>\u001b[0m in \u001b[0;36m<module>\u001b[0;34m()\u001b[0m\n\u001b[0;32m----> 1\u001b[0;31m \u001b[0mforest_features\u001b[0m \u001b[0;34m=\u001b[0m \u001b[0mtrain_x\u001b[0m\u001b[0;34m.\u001b[0m\u001b[0mcolumns\u001b[0m\u001b[0;34m[\u001b[0m\u001b[0mforest\u001b[0m\u001b[0;34m.\u001b[0m\u001b[0mfeature_importances_\u001b[0m\u001b[0;34m>=\u001b[0m \u001b[0;36m0.01\u001b[0m\u001b[0;34m]\u001b[0m\u001b[0;34m\u001b[0m\u001b[0;34m\u001b[0m\u001b[0m\n\u001b[0m\u001b[1;32m      2\u001b[0m \u001b[0mforest_features\u001b[0m\u001b[0;34m\u001b[0m\u001b[0;34m\u001b[0m\u001b[0m\n",
            "\u001b[0;31mNameError\u001b[0m: name 'forest' is not defined"
          ]
        }
      ],
      "source": [
        "# forest_features = train_x.columns[forest.feature_importances_>= 0.01]\n",
        "# forest_features"
      ]
    },
    {
      "cell_type": "code",
      "execution_count": null,
      "metadata": {
        "id": "sMb-zwYnvT_0"
      },
      "outputs": [],
      "source": [
        "# from sklearn.model_selection import train_test_split\n",
        "\n",
        "# X_train2, X_test2, y_train2, y_test2 = train_test_split(\n",
        "# train_x, train_y, test_size=0.3, random_state=42)\n"
      ]
    },
    {
      "cell_type": "code",
      "execution_count": null,
      "metadata": {
        "id": "9MDbMI4hQJVO"
      },
      "outputs": [],
      "source": [
        "# dec_tree2 = DecisionTreeClassifier(max_depth=5, min_samples_leaf=5)\n",
        "# dec_tree2.fit(X_train2, y_train2)\n",
        "# lr_clf.fit(X_train2, y_train2)"
      ]
    },
    {
      "cell_type": "code",
      "execution_count": null,
      "metadata": {
        "id": "hwwJmxipQWpR"
      },
      "outputs": [],
      "source": [
        "# dec_tree2.score(X_test2,y_test2)"
      ]
    },
    {
      "cell_type": "code",
      "execution_count": null,
      "metadata": {
        "id": "oUPACl0NQe54"
      },
      "outputs": [],
      "source": [
        "# lr_clf.score(X_test2,y_test2)"
      ]
    },
    {
      "cell_type": "code",
      "execution_count": null,
      "metadata": {
        "id": "clEBoGlSRZWv"
      },
      "outputs": [],
      "source": [
        "\n",
        "\n",
        "# param_grid = {\n",
        "#     \"max_depth\": [3,5,10,15,20,None],\n",
        "#     \"min_samples_split\": [2,5,7,10],\n",
        "#     \"min_samples_leaf\": [1,2,5]\n",
        "# }\n",
        "\n",
        "# clf = DecisionTreeClassifier(random_state=42)\n",
        "# tree_grid_cv = GridSearchCV(clf, param_grid, scoring=\"roc_auc\",verbose=4 ,n_jobs=-1, cv=3).fit(train_x,train_y)"
      ]
    },
    {
      "cell_type": "code",
      "execution_count": null,
      "metadata": {
        "id": "RFatYNAzSUKh"
      },
      "outputs": [],
      "source": [
        "# ans = pd.DataFrame(grid_cv.cv_results_)\n",
        "# ans.sort_values(\"rank_test_score\").head(10)\n"
      ]
    },
    {
      "cell_type": "code",
      "execution_count": null,
      "metadata": {
        "id": "3-wOFf5OrfjD"
      },
      "outputs": [],
      "source": [
        "# param_grid_2 = {\n",
        "#     \"max_depth\": [5],\n",
        "#     \"min_samples_split\": [2,5,7,10],\n",
        "#     \"min_samples_leaf\": [1,2]\n",
        "# }\n",
        "# tree_grid_cv2 = GridSearchCV(clf, param_grid_2, scoring=\"roc_auc\",verbose=4 ,n_jobs=-1, cv=8).fit(train_x,train_y)"
      ]
    },
    {
      "cell_type": "code",
      "execution_count": null,
      "metadata": {
        "id": "yZ4naL0Jrh__"
      },
      "outputs": [],
      "source": [
        "# ans_2 = pd.DataFrame(tree_grid_cv2.cv_results_)\n",
        "# ans_2.sort_values(\"rank_test_score\").head(10)"
      ]
    },
    {
      "cell_type": "code",
      "execution_count": null,
      "metadata": {
        "id": "ZMaTxAkrSVwf"
      },
      "outputs": [],
      "source": [
        "# parameters = {\n",
        "#     'penalty' : ['l1','l2'], \n",
        "#     'C'       : np.logspace(-3,3,7),\n",
        "#     'solver'  : [\"saga\", 'liblinear'],\n",
        "# }\n",
        "# lr_clf = LogisticRegression(random_state=42)\n",
        "# reg_grid_cv = GridSearchCV(lr_clf, parameters, scoring=\"roc_auc\",verbose=4 ,n_jobs=-1, cv=3).fit(train_x,train_y)\n"
      ]
    },
    {
      "cell_type": "code",
      "execution_count": null,
      "metadata": {
        "id": "i_he6sg0f0lI"
      },
      "outputs": [],
      "source": [
        "# ans2 = pd.DataFrame(grid_cv2.cv_results_)\n",
        "# ans2.sort_values(\"rank_test_score\")\n"
      ]
    },
    {
      "cell_type": "code",
      "execution_count": null,
      "metadata": {
        "id": "jzGrzqjyf4Dm"
      },
      "outputs": [],
      "source": [
        "# best_featues_logostic = grid_cv2.best_estimator_\n",
        "# best_featues_logostic"
      ]
    },
    {
      "cell_type": "code",
      "execution_count": null,
      "metadata": {
        "id": "zC-5HPpdz5jc"
      },
      "outputs": [],
      "source": [
        "# lr_clf = LogisticRegression(penalty=\"l1\",C=1.0,solver=\"liblinear\",max_iter=1000,random_state=42)\n",
        "# lr_clf.fit(X=train_x[forest_features],y=train_y)"
      ]
    },
    {
      "cell_type": "code",
      "execution_count": null,
      "metadata": {
        "id": "Q1_uqcty4eZH"
      },
      "outputs": [],
      "source": [
        "# lr_clf.score(X=test_x[forest_features],y=labels)"
      ]
    },
    {
      "cell_type": "code",
      "execution_count": null,
      "metadata": {
        "id": "kTKwe89IRrzm"
      },
      "outputs": [],
      "source": [
        "# from google.colab import files\n",
        "# pd.DataFrame(lr_clf.predict(test_x),columns=[\"predicted_values\"]).to_csv(\"207047259.csv\",index=False)\n",
        "# files.download(\"207047259.csv\")"
      ]
    },
    {
      "cell_type": "code",
      "execution_count": null,
      "metadata": {
        "colab": {
          "base_uri": "https://localhost:8080/"
        },
        "id": "4WNf3Tu_EVVP",
        "outputId": "afa3c7a5-a158-456b-c9ce-db57b6669da6"
      },
      "outputs": [
        {
          "data": {
            "text/plain": [
              "SelectFromModel(estimator=LogisticRegression(penalty='l1', random_state=42,\n",
              "                                             solver='liblinear'))"
            ]
          },
          "execution_count": 17,
          "metadata": {},
          "output_type": "execute_result"
        }
      ],
      "source": [
        "# from sklearn.feature_selection import SelectFromModel\n",
        "# sel = SelectFromModel(LogisticRegression(penalty=\"l1\",C=1.0,solver=\"liblinear\",max_iter=100,random_state=42))\n",
        "# sel.fit(train_x, train_y)\n"
      ]
    },
    {
      "cell_type": "code",
      "execution_count": null,
      "metadata": {
        "id": "peKko9nI1P-v"
      },
      "outputs": [],
      "source": [
        "# reg_features = train_x.columns[sel.get_support()]"
      ]
    },
    {
      "cell_type": "code",
      "execution_count": null,
      "metadata": {
        "colab": {
          "base_uri": "https://localhost:8080/"
        },
        "id": "ULxFVGLL2a_Y",
        "outputId": "5d60cc9c-767c-4963-e8fb-f3aa7480628b"
      },
      "outputs": [
        {
          "name": "stderr",
          "output_type": "stream",
          "text": [
            "/usr/local/lib/python3.7/dist-packages/sklearn/svm/_base.py:1208: ConvergenceWarning: Liblinear failed to converge, increase the number of iterations.\n",
            "  ConvergenceWarning,\n"
          ]
        },
        {
          "data": {
            "text/plain": [
              "0.4125516606915246"
            ]
          },
          "execution_count": 49,
          "metadata": {},
          "output_type": "execute_result"
        }
      ],
      "source": [
        "# lr_clf = LogisticRegression(penalty=\"l1\",C=1.0,solver=\"liblinear\",max_iter=100,random_state=42)\n",
        "# lr_clf.fit(X=train_x,y=train_y)\n",
        "# f1_score(lr_clf.predict(test_x), labels, average='macro')"
      ]
    },
    {
      "cell_type": "code",
      "execution_count": null,
      "metadata": {
        "id": "GJ27-zS8zRvi"
      },
      "outputs": [],
      "source": [
        "# lr_clf = LogisticRegression(random_state=42)\n",
        "# parameters_2 = {\n",
        "#     'penalty' : ['l1'], \n",
        "#     'C'       : [1.0,10.0,100.0],\n",
        "#     'solver'  : ['liblinear'],\n",
        "# }\n",
        "# reg_grid_cv2 = GridSearchCV(lr_clf, parameters_2, scoring=\"roc_auc\",verbose=4 ,n_jobs=-1, cv=8).fit(train_x,train_y)"
      ]
    },
    {
      "cell_type": "code",
      "execution_count": null,
      "metadata": {
        "id": "raq3vXWm_mai"
      },
      "outputs": [],
      "source": [
        "# small_good_features = ['norm_of_cancellation_policy', 'payment_late_cancellation',\n",
        "#        'booking_datetime', 'checkin_date', 'hotel_star_rating',\n",
        "#        'original_selling_amount', 'hotel_area_code', 'hotel_chain_code',\n",
        "#        'Pay Later', 'Pay Now', 'Africa', 'Asia', 'Europe', 'North America', 'Oceania',\n",
        "#        'South America', 'Hotel']#,'Unknown', 'Credit Card', 'Gift Card',\n",
        "       #'Invoice']"
      ]
    },
    {
      "cell_type": "code",
      "execution_count": null,
      "metadata": {
        "id": "UuWRFZKX_o0C"
      },
      "outputs": [],
      "source": [
        "# from sklearn.ensemble import GradientBoostingClassifier\n",
        "# clf = GradientBoostingClassifier(n_estimators=100, learning_rate=1.0,max_depth=1, random_state=0).fit(train_x[small_good_features], train_y)\n",
        "# from sklearn.metrics import f1_score\n",
        "# f1_score(clf.predict(test_x[small_good_features]), labels, average='macro')"
      ]
    },
    {
      "cell_type": "code",
      "execution_count": null,
      "metadata": {
        "colab": {
          "base_uri": "https://localhost:8080/"
        },
        "id": "mIbKsUMb476H",
        "outputId": "912d9067-2e67-42e9-96b3-723a9ca6f13f"
      },
      "outputs": [
        {
          "data": {
            "text/plain": [
              "0.4860499265785609"
            ]
          },
          "execution_count": 26,
          "metadata": {},
          "output_type": "execute_result"
        }
      ],
      "source": [
        "# from sklearn.metrics import f1_score\n",
        "# f1_score(clf.predict(test_x[small_good_features]), labels, average='macro')"
      ]
    },
    {
      "cell_type": "code",
      "execution_count": null,
      "metadata": {
        "colab": {
          "base_uri": "https://localhost:8080/"
        },
        "id": "YYZ23Z3DBux8",
        "outputId": "b8fa4571-7ef3-4d20-c704-c07659c1e9db"
      },
      "outputs": [
        {
          "data": {
            "text/plain": [
              "Index(['norm_of_cancellation_policy', 'payment_late_cancellation',\n",
              "       'booking_datetime', 'checkin_date', 'hotel_star_rating',\n",
              "       'guest_is_not_the_customer', 'no_of_children', 'no_of_extra_bed',\n",
              "       'no_of_room', 'original_selling_amount', 'is_user_logged_in',\n",
              "       'is_first_booking', 'request_nonesmoke', 'request_latecheckin',\n",
              "       'request_highfloor', 'request_twinbeds', 'hotel_area_code',\n",
              "       'hotel_chain_code', 'Pay Later', 'Pay Now', 'Credit Card', 'Gift Card',\n",
              "       'Invoice', 'Africa', 'Asia', 'Europe', 'North America', 'Oceania',\n",
              "       'South America', 'Unknown', 'Apartment', 'Boat / Cruise', 'Bungalow',\n",
              "       'Capsule Hotel', 'Guest House / Bed & Breakfast', 'Home', 'Hostel',\n",
              "       'Hotel', 'Motel', 'Private Villa', 'Resort', 'Resort Villa', 'Ryokan',\n",
              "       'Serviced Apartment', 'Tent', 'UNKNOWN'],\n",
              "      dtype='object')"
            ]
          },
          "execution_count": 15,
          "metadata": {},
          "output_type": "execute_result"
        }
      ],
      "source": [
        "# from google.colab import files\n",
        "# pd.DataFrame(model.predict(test_x[small_good_features]),columns=[\"predicted_values\"]).to_csv(\"207047259.csv\",index=False)\n",
        "# files.download(\"207047259.csv\")"
      ]
    },
    {
      "cell_type": "code",
      "execution_count": null,
      "metadata": {
        "colab": {
          "base_uri": "https://localhost:8080/"
        },
        "id": "-SGWdDIZ6KIx",
        "outputId": "856acd95-b6b0-4a83-fcab-70e971777131"
      },
      "outputs": [
        {
          "name": "stdout",
          "output_type": "stream",
          "text": [
            "Fitting 2 folds for each of 16 candidates, totalling 32 fits\n"
          ]
        }
      ],
      "source": [
        "# from sklearn.model_selection import GridSearchCV\n",
        "# parameters = {\n",
        "#     \"loss\":[\"deviance\"],\n",
        "#     \"learning_rate\": [0.01, 0.2],\n",
        "#     \"min_samples_split\": [0.1,0.5],\n",
        "#     \"min_samples_leaf\":[0.1,0.5],\n",
        "#     \"max_depth\":[3,5],\n",
        "#     \"max_features\":[\"log2\",\"sqrt\"],\n",
        "#     \"criterion\": [\"friedman_mse\",  \"mae\"],\n",
        "#     \"n_estimators\":[10]\n",
        "#     }\n",
        "# #passing the scoring function in the GridSearchCV\n",
        "# clf = GridSearchCV(GradientBoostingClassifier(), parameters,verbose=4,scoring=\"f1_macro\",refit=False,cv=2, n_jobs=-1).fit(train_x[small_good_features], train_y)"
      ]
    },
    {
      "cell_type": "code",
      "execution_count": null,
      "metadata": {
        "colab": {
          "base_uri": "https://localhost:8080/"
        },
        "id": "SPPUobc7AQbH",
        "outputId": "4d8e94da-019c-4089-a2cc-be25556afa68"
      },
      "outputs": [
        {
          "data": {
            "text/plain": [
              "{'criterion': 'friedman_mse',\n",
              " 'learning_rate': 0.01,\n",
              " 'loss': 'deviance',\n",
              " 'max_depth': 3,\n",
              " 'max_features': 'log2',\n",
              " 'n_estimators': 10}"
            ]
          },
          "execution_count": 27,
          "metadata": {},
          "output_type": "execute_result"
        }
      ],
      "source": [
        "# boost = pd.DataFrame(clf.cv_results_)\n",
        "# boost.sort_values(\"rank_test_score\").loc[0,\"params\"]\n"
      ]
    },
    {
      "cell_type": "code",
      "execution_count": null,
      "metadata": {
        "colab": {
          "base_uri": "https://localhost:8080/"
        },
        "id": "EIXrEYAiAn6e",
        "outputId": "643a2b7d-941d-4517-f798-4ad3c4f7aef7"
      },
      "outputs": [
        {
          "name": "stdout",
          "output_type": "stream",
          "text": [
            "0.4285864756688434\n"
          ]
        },
        {
          "data": {
            "text/plain": [
              "0.5241619964047796"
            ]
          },
          "execution_count": 57,
          "metadata": {},
          "output_type": "execute_result"
        }
      ],
      "source": [
        "# model = GradientBoostingClassifier(n_estimators=100,random_state=0).fit(train_x[small_good_features], train_y)\n",
        "# for_sub2 = GradientBoostingClassifier(n_estimators=100,learning_rate=1.0,random_state=0).fit(train_x[small_good_features], train_y)\n",
        "# from sklearn.metrics import f1_score\n",
        "# print(f1_score(for_sub2.predict(test_x[small_good_features]), labels, average='macro'))\n",
        "# f1_score(model.predict(test_x[small_good_features]), labels, average='macro')"
      ]
    },
    {
      "cell_type": "code",
      "execution_count": null,
      "metadata": {
        "id": "-J5WKpTxCCOk"
      },
      "outputs": [],
      "source": [
        "# week2 = pd.read_csv(io.BytesIO(uploaded[\"test_set_week_2.csv\"]))\n",
        "# week2_labels = pd.read_csv(io.BytesIO(uploaded[\"test_set_labels_week_2.csv\"]))\n",
        "# week2_labels = (week2_labels.iloc[:,0]).map(lambda x: x[-1]).astype(int)"
      ]
    },
    {
      "cell_type": "code",
      "execution_count": null,
      "metadata": {
        "id": "0t5H1_1_BhBo"
      },
      "outputs": [],
      "source": [
        "# full_data = pd.read_csv(io.BytesIO(uploaded[\"agoda_cancellation_train.csv\"]))\n",
        "# full_data.cancellation_datetime = full_data.cancellation_datetime.fillna(0).astype(bool).astype(int)"
      ]
    },
    {
      "cell_type": "code",
      "execution_count": null,
      "metadata": {
        "id": "Lq0ljaRzGTEZ"
      },
      "outputs": [],
      "source": [
        "#NN_MODEL\n",
        "from sklearn.model_selection import train_test_split\n",
        "from sklearn.preprocessing import StandardScaler\n",
        "import torch.utils.data as data_utils\n",
        "from tensorflow.keras.models import Sequential\n",
        "from tensorflow.keras.layers import Dense, Dropout\n",
        "\n",
        "X_train, X_test, y_train, y_test = train_test_split(train_x[small_good_features], train_y)\n",
        "BATCH_SIZE = 256\n",
        "\n",
        "# Scaling the data\n",
        "\n",
        "ss = StandardScaler()\n",
        "X_train = ss.fit_transform(X_train)\n",
        "X_test = ss.transform(X_test)\n",
        "X_train.shape\n",
        "# y_train = y_train[:,None]\n",
        "# y_test = y_test[:,None]\n",
        "\n",
        "\n",
        "\n",
        "\n",
        "# Creating our model's structure\n",
        "model = Sequential()\n",
        "model.add(Dense(32, activation='relu', input_shape=(16,)))\n",
        "model.add(Dropout(0.18))\n",
        "model.add(Dense(64, activation='relu'))\n",
        "model.add(Dropout(0.15))\n",
        "model.add(Dense(32, activation='relu'))\n",
        "model.add(Dropout(0.15))\n",
        "model.add(Dense(1, activation='sigmoid'))\n",
        "\n",
        "# Compiling the model\n",
        "model.compile(loss='bce',\n",
        "              optimizer='adam',\n",
        "              metrics=['binary_accuracy'])\n",
        "\n",
        "# Fitting the model\n",
        "history = model.fit(X_train,\n",
        "                    y_train, \n",
        "                    batch_size = BATCH_SIZE,\n",
        "                    validation_data =(X_test, y_test),\n",
        "                    epochs = 100,\n",
        "                    verbose = 0,)"
      ]
    },
    {
      "cell_type": "code",
      "execution_count": null,
      "metadata": {
        "colab": {
          "base_uri": "https://localhost:8080/",
          "height": 355
        },
        "id": "RBR0nPB17C7S",
        "outputId": "9857b271-3c6d-4f02-98a3-53bb1b84bbe9"
      },
      "outputs": [
        {
          "data": {
            "image/png": "[encoded data removed]",
            "text/plain": [
              "<Figure size 720x360 with 1 Axes>"
            ]
          },
          "metadata": {},
          "output_type": "display_data"
        }
      ],
      "source": [
        "import matplotlib.pyplot as plt\n",
        "# Check out our train loss and test loss over epochs.\n",
        "train_loss = history.history['loss']\n",
        "test_loss = history.history['val_loss']\n",
        "\n",
        "# Visualizing our training and testing loss by epoch\n",
        "plt.figure(figsize=(10, 5))\n",
        "plt.plot(train_loss, label='Training Loss', color='#185fad')\n",
        "plt.plot(test_loss, label='Testing Loss', color='orange')\n",
        "plt.title('Training and Testing Loss by Epoch', fontsize = 20)\n",
        "plt.xlabel('Epoch', fontsize = 11)\n",
        "plt.ylabel('Binary Crossentropy', fontsize = 11)\n",
        "plt.legend(fontsize = 11);"
      ]
    },
    {
      "cell_type": "code",
      "execution_count": null,
      "metadata": {
        "colab": {
          "base_uri": "https://localhost:8080/",
          "height": 334
        },
        "id": "3xWj1prAB4AM",
        "outputId": "009409c7-837d-4c96-b9cf-6a2507c0a1a2"
      },
      "outputs": [
        {
          "data": {
            "image/png": "[encoded data removed]",
            "text/plain": [
              "<Figure size 720x360 with 1 Axes>"
            ]
          },
          "metadata": {},
          "output_type": "display_data"
        }
      ],
      "source": [
        "# Visualizing our training and testing accuracy.\n",
        "plt.figure(figsize=(10, 5))\n",
        "plt.plot(history.history['binary_accuracy'], label='Training accuracy')\n",
        "plt.plot(history.history['val_binary_accuracy'], label='Testing accuracy')\n",
        "plt.xlabel('Epoch', fontsize = 10)\n",
        "plt.ylabel('Loss', fontsize = 10)\n",
        "plt.legend(fontsize = 10);"
      ]
    },
    {
      "cell_type": "code",
      "execution_count": null,
      "metadata": {
        "id": "-s4_RMACEVqW"
      },
      "outputs": [],
      "source": [
        ""
      ]
    }
  ],
  "metadata": {
    "accelerator": "GPU",
    "colab": {
      "collapsed_sections": [],
      "name": "data_challenge.ipynb",
      "provenance": []
    },
    "kernelspec": {
      "display_name": "Python 3",
      "name": "python3"
    },
    "language_info": {
      "name": "python"
    }
  },
  "nbformat": 4,
  "nbformat_minor": 0
}