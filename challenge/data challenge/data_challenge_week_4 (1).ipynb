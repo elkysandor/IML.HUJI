{
 "cells": [
  {
   "cell_type": "code",
   "execution_count": 1,
   "metadata": {
    "colab": {
     "base_uri": "https://localhost:8080/"
    },
    "id": "jeuoq4QSSUtq",
    "outputId": "084c07ce-1c24-4dd7-80aa-12033cbc93fa"
   },
   "outputs": [
    {
     "name": "stdout",
     "output_type": "stream",
     "text": [
      "Running on CoLab\n"
     ]
    }
   ],
   "source": [
    "run_in_colab = False\n",
    "if 'google.colab' in str(get_ipython()):\n",
    "    run_in_colab = True\n",
    "    print('Running on CoLab')\n",
    "else:\n",
    "    print('Running locally on Jupyter')"
   ]
  },
  {
   "cell_type": "code",
   "execution_count": 2,
   "metadata": {
    "colab": {
     "base_uri": "https://localhost:8080/"
    },
    "id": "aWJruYl8Sjf-",
    "outputId": "2783d3f5-cf34-48a0-f41a-fd3d3f3c90e0"
   },
   "outputs": [
    {
     "name": "stdout",
     "output_type": "stream",
     "text": [
      "Mounted at /content/drive\n"
     ]
    }
   ],
   "source": [
    "if run_in_colab:\n",
    "    from google.colab import drive\n",
    "    drive.mount('/content/drive')\n",
    "else:  # Set local path \n",
    "    data_path = \"path/to/data_folder\""
   ]
  },
  {
   "cell_type": "code",
   "execution_count": 276,
   "metadata": {
    "colab": {
     "base_uri": "https://localhost:8080/",
     "height": 355,
     "resources": {
      "http://localhost:8080/nbextensions/google.colab/files.js": {
       "data": "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",
       "headers": [
        [
         "content-type",
         "application/javascript"
        ]
       ],
       "ok": true,
       "status": 200,
       "status_text": ""
      }
     }
    },
    "id": "lm0WXfnrSqqn",
    "outputId": "113cd10f-6334-427f-9589-44e16783da31"
   },
   "outputs": [
    {
     "data": {
      "text/html": [
       "\n",
       "     <input type=\"file\" id=\"files-c276728f-1045-4301-b956-196222a3b215\" name=\"files[]\" multiple disabled\n",
       "        style=\"border:none\" />\n",
       "     <output id=\"result-c276728f-1045-4301-b956-196222a3b215\">\n",
       "      Upload widget is only available when the cell has been executed in the\n",
       "      current browser session. Please rerun this cell to enable.\n",
       "      </output>\n",
       "      <script src=\"/nbextensions/google.colab/files.js\"></script> "
      ],
      "text/plain": [
       "<IPython.core.display.HTML object>"
      ]
     },
     "metadata": {},
     "output_type": "display_data"
    },
    {
     "name": "stdout",
     "output_type": "stream",
     "text": [
      "Saving 207047259_313450876_208346320.csv to 207047259_313450876_208346320 (1).csv\n",
      "Saving agoda_cancellation_train.csv to agoda_cancellation_train (1).csv\n",
      "Saving test_set_labels_week_2.csv to test_set_labels_week_2 (1).csv\n",
      "Saving test_set_week_1_labels.csv to test_set_week_1_labels (1).csv\n",
      "Saving test_set_week_1.csv to test_set_week_1 (1).csv\n",
      "Saving test_set_week_2.csv to test_set_week_2 (1).csv\n",
      "Saving test_set_week_3_labels.csv to test_set_week_3_labels (1).csv\n",
      "Saving test_set_week_3.csv to test_set_week_3 (1).csv\n",
      "Saving test_set_week_4.csv to test_set_week_4.csv\n"
     ]
    }
   ],
   "source": [
    "if run_in_colab:\n",
    "    from google.colab import files\n",
    "    uploaded = files.upload()"
   ]
  },
  {
   "cell_type": "code",
   "execution_count": 4,
   "metadata": {
    "id": "iSLls9RxPTgf"
   },
   "outputs": [],
   "source": [
    "# from challenge.agoda_cancellation_estimator import AgodaCancellationEstimator\n",
    "# from IMLearn.utils import split_train_test\n",
    "from sklearn.ensemble import RandomForestClassifier\n",
    "from sklearn.linear_model import LogisticRegression\n",
    "from sklearn.tree import DecisionTreeClassifier \n",
    "from sklearn.preprocessing import normalize\n",
    "from datetime import datetime\n",
    "import re\n",
    "import io\n",
    "import plotly\n",
    "import plotly.express as px\n",
    "import numpy as np\n",
    "import pandas as pd\n"
   ]
  },
  {
   "cell_type": "code",
   "execution_count": 5,
   "metadata": {
    "id": "hr8dtCPRPTmN"
   },
   "outputs": [],
   "source": [
    "COUNTRY_ALPHA2_TO_CONTINENT = {\n",
    "    \"TL\": \"Asia\",\n",
    "    'AB': 'Asia',\n",
    "    'AD': 'Europe',\n",
    "    'AE': 'Asia',\n",
    "    'AF': 'Asia',\n",
    "    'AG': 'North America',\n",
    "    'AI': 'North America',\n",
    "    'AL': 'Europe',\n",
    "    'AM': 'Asia',\n",
    "    'AO': 'Africa',\n",
    "    'AR': 'South America',\n",
    "    'AS': 'Oceania',\n",
    "    'AT': 'Europe',\n",
    "    'AU': 'Oceania',\n",
    "    'AW': 'North America',\n",
    "    'AX': 'Europe',\n",
    "    'AZ': 'Asia',\n",
    "    'BA': 'Europe',\n",
    "    'BB': 'North America',\n",
    "    'BD': 'Asia',\n",
    "    'BE': 'Europe',\n",
    "    'BF': 'Africa',\n",
    "    'BG': 'Europe',\n",
    "    'BH': 'Asia',\n",
    "    'BI': 'Africa',\n",
    "    'BJ': 'Africa',\n",
    "    'BL': 'North America',\n",
    "    'BM': 'North America',\n",
    "    'BN': 'Asia',\n",
    "    'BO': 'South America',\n",
    "    'BQ': 'North America',\n",
    "    'BR': 'South America',\n",
    "    'BS': 'North America',\n",
    "    'BT': 'Asia',\n",
    "    'BV': 'Antarctica',\n",
    "    'BW': 'Africa',\n",
    "    'BY': 'Europe',\n",
    "    'BZ': 'North America',\n",
    "    'CA': 'North America',\n",
    "    'CC': 'Asia',\n",
    "    'CD': 'Africa',\n",
    "    'CF': 'Africa',\n",
    "    'CG': 'Africa',\n",
    "    'CH': 'Europe',\n",
    "    'CI': 'Africa',\n",
    "    'CK': 'Oceania',\n",
    "    'CL': 'South America',\n",
    "    'CM': 'Africa',\n",
    "    'CN': 'Asia',\n",
    "    'CO': 'South America',\n",
    "    'CR': 'North America',\n",
    "    'CU': 'North America',\n",
    "    'CV': 'Africa',\n",
    "    'CW': 'North America',\n",
    "    'CX': 'Asia',\n",
    "    'CY': 'Asia',\n",
    "    'CZ': 'Europe',\n",
    "    'DE': 'Europe',\n",
    "    'DJ': 'Africa',\n",
    "    'DK': 'Europe',\n",
    "    'DM': 'North America',\n",
    "    'DO': 'North America',\n",
    "    'DZ': 'Africa',\n",
    "    'EC': 'South America',\n",
    "    'EE': 'Europe',\n",
    "    'EG': 'Africa',\n",
    "    'ER': 'Africa',\n",
    "    'ES': 'Europe',\n",
    "    'ET': 'Africa',\n",
    "    'FI': 'Europe',\n",
    "    'FJ': 'Oceania',\n",
    "    'FK': 'South America',\n",
    "    'FM': 'Oceania',\n",
    "    'FO': 'Europe',\n",
    "    'FR': 'Europe',\n",
    "    'GA': 'Africa',\n",
    "    'GB': 'Europe',\n",
    "    'GD': 'North America',\n",
    "    'GE': 'Asia',\n",
    "    'GF': 'South America',\n",
    "    'GG': 'Europe',\n",
    "    'GH': 'Africa',\n",
    "    'GI': 'Europe',\n",
    "    'GL': 'North America',\n",
    "    'GM': 'Africa',\n",
    "    'GN': 'Africa',\n",
    "    'GP': 'North America',\n",
    "    'GQ': 'Africa',\n",
    "    'GR': 'Europe',\n",
    "    'GS': 'South America',\n",
    "    'GT': 'North America',\n",
    "    'GU': 'Oceania',\n",
    "    'GW': 'Africa',\n",
    "    'GY': 'South America',\n",
    "    'HK': 'Asia',\n",
    "    'HM': 'Antarctica',\n",
    "    'HN': 'North America',\n",
    "    'HR': 'Europe',\n",
    "    'HT': 'North America',\n",
    "    'HU': 'Europe',\n",
    "    'ID': 'Asia',\n",
    "    'IE': 'Europe',\n",
    "    'IL': 'Asia',\n",
    "    'IM': 'Europe',\n",
    "    'IN': 'Asia',\n",
    "    'IO': 'Asia',\n",
    "    'IQ': 'Asia',\n",
    "    'IR': 'Asia',\n",
    "    'IS': 'Europe',\n",
    "    'IT': 'Europe',\n",
    "    'JE': 'Europe',\n",
    "    'JM': 'North America',\n",
    "    'JO': 'Asia',\n",
    "    'JP': 'Asia',\n",
    "    'KE': 'Africa',\n",
    "    'KG': 'Asia',\n",
    "    'KH': 'Asia',\n",
    "    'KI': 'Oceania',\n",
    "    'KM': 'Africa',\n",
    "    'KN': 'North America',\n",
    "    'KP': 'Asia',\n",
    "    'KR': 'Asia',\n",
    "    'KW': 'Asia',\n",
    "    'KY': 'North America',\n",
    "    'KZ': 'Asia',\n",
    "    'LA': 'Asia',\n",
    "    'LB': 'Asia',\n",
    "    'LC': 'North America',\n",
    "    'LI': 'Europe',\n",
    "    'LK': 'Asia',\n",
    "    'LR': 'Africa',\n",
    "    'LS': 'Africa',\n",
    "    'LT': 'Europe',\n",
    "    'LU': 'Europe',\n",
    "    'LV': 'Europe',\n",
    "    'LY': 'Africa',\n",
    "    'MA': 'Africa',\n",
    "    'MC': 'Europe',\n",
    "    'MD': 'Europe',\n",
    "    'ME': 'Europe',\n",
    "    'MF': 'North America',\n",
    "    'MG': 'Africa',\n",
    "    'MH': 'Oceania',\n",
    "    'MK': 'Europe',\n",
    "    'ML': 'Africa',\n",
    "    'MM': 'Asia',\n",
    "    'MN': 'Asia',\n",
    "    'MO': 'Asia',\n",
    "    'MP': 'Oceania',\n",
    "    'MQ': 'North America',\n",
    "    'MR': 'Africa',\n",
    "    'MS': 'North America',\n",
    "    'MT': 'Europe',\n",
    "    'MU': 'Africa',\n",
    "    'MV': 'Asia',\n",
    "    'MW': 'Africa',\n",
    "    'MX': 'North America',\n",
    "    'MY': 'Asia',\n",
    "    'MZ': 'Africa',\n",
    "    'NA': 'Africa',\n",
    "    'NC': 'Oceania',\n",
    "    'NE': 'Africa',\n",
    "    'NF': 'Oceania',\n",
    "    'NG': 'Africa',\n",
    "    'NI': 'North America',\n",
    "    'NL': 'Europe',\n",
    "    'NO': 'Europe',\n",
    "    'NP': 'Asia',\n",
    "    'NR': 'Oceania',\n",
    "    'NU': 'Oceania',\n",
    "    'NZ': 'Oceania',\n",
    "    'OM': 'Asia',\n",
    "    'OS': 'Asia',\n",
    "    'PA': 'North America',\n",
    "    'PE': 'South America',\n",
    "    'PF': 'Oceania',\n",
    "    'PG': 'Oceania',\n",
    "    'PH': 'Asia',\n",
    "    'PK': 'Asia',\n",
    "    'PL': 'Europe',\n",
    "    'PM': 'North America',\n",
    "    'PR': 'North America',\n",
    "    'PS': 'Asia',\n",
    "    'PT': 'Europe',\n",
    "    'PW': 'Oceania',\n",
    "    'PY': 'South America',\n",
    "    'QA': 'Asia',\n",
    "    'RE': 'Africa',\n",
    "    'RO': 'Europe',\n",
    "    'RS': 'Europe',\n",
    "    'RU': 'Europe',\n",
    "    'RW': 'Africa',\n",
    "    'SA': 'Asia',\n",
    "    'SB': 'Oceania',\n",
    "    'SC': 'Africa',\n",
    "    'SD': 'Africa',\n",
    "    'SE': 'Europe',\n",
    "    'SG': 'Asia',\n",
    "    'SH': 'Africa',\n",
    "    'SI': 'Europe',\n",
    "    'SJ': 'Europe',\n",
    "    'SK': 'Europe',\n",
    "    'SL': 'Africa',\n",
    "    'SM': 'Europe',\n",
    "    'SN': 'Africa',\n",
    "    'SO': 'Africa',\n",
    "    'SR': 'South America',\n",
    "    'SS': 'Africa',\n",
    "    'ST': 'Africa',\n",
    "    'SV': 'North America',\n",
    "    'SY': 'Asia',\n",
    "    'SZ': 'Africa',\n",
    "    'TC': 'North America',\n",
    "    'TD': 'Africa',\n",
    "    'TG': 'Africa',\n",
    "    'TH': 'Asia',\n",
    "    'TJ': 'Asia',\n",
    "    'TK': 'Oceania',\n",
    "    'TM': 'Asia',\n",
    "    'TN': 'Africa',\n",
    "    'TO': 'Oceania',\n",
    "    'TP': 'Asia',\n",
    "    'TR': 'Asia',\n",
    "    'TT': 'North America',\n",
    "    'TV': 'Oceania',\n",
    "    'TW': 'Asia',\n",
    "    'TZ': 'Africa',\n",
    "    'UA': 'Europe',\n",
    "    'UG': 'Africa',\n",
    "    'US': 'North America',\n",
    "    'UY': 'South America',\n",
    "    'UZ': 'Asia',\n",
    "    'VC': 'North America',\n",
    "    'VE': 'South America',\n",
    "    'VG': 'North America',\n",
    "    'VI': 'North America',\n",
    "    'VN': 'Asia',\n",
    "    'VU': 'Oceania',\n",
    "    'WF': 'Oceania',\n",
    "    'WS': 'Oceania',\n",
    "    'XK': 'Europe',\n",
    "    'YE': 'Asia',\n",
    "    'YT': 'Africa',\n",
    "    'ZA': 'Africa',\n",
    "    'ZM': 'Africa',\n",
    "    'ZW': 'Africa',\n",
    "    \"A1\": 'Unknown',\n",
    "    np.nan: \"Unknown\"\n",
    "}\n",
    "has_unique = ['charge_option', 'original_payment_type','continent',\"accommadation_type_name\"]\n",
    "\n",
    "bool_cols = ['is_user_logged_in', 'is_first_booking']\n",
    "\n",
    "names_of_non_numeric_cols = ['hotel_country_code', 'accommadation_type_name',\n",
    "                                 'charge_option', 'customer_nationality',\n",
    "                                 'guest_nationality_country_name', 'origin_country_code', 'language',\n",
    "                                 'original_payment_method', 'original_payment_type',\n",
    "                                 'original_payment_currency', 'cancellation_policy_code']\n",
    "\n",
    "date_time_cols = ['booking_datetime', 'checkin_date', 'checkout_date',\n",
    "                      'hotel_live_date']\n"
   ]
  },
  {
   "cell_type": "code",
   "execution_count": 6,
   "metadata": {
    "id": "1Ar2skGZPYR8"
   },
   "outputs": [],
   "source": [
    "#not in use\n",
    "def compute_z_score(df):\n",
    "  return (df-df.mean())/df.std()\n",
    "\n",
    "def fillter_to_binary(val):\n",
    "    if val in [0,1,1.0,0.0] or np.isnan(val):\n",
    "        return True\n",
    "    return False\n",
    "\n",
    "#not in use\n",
    "def match_to_test_dat(df):\n",
    "  df1 = df[(df[\"charge_option\"]!='Pay at Check-in')]\n",
    "  df2 = df1[~(df1.accommadation_type_name.isin(['Pay at Check-in','Chalet','Holiday Park / Caravan Park','Homestay','Inn', 'Lodge', 'Love Hotel']))]\n",
    "  return df2\n",
    "#prase the policy str to 2 numeric features\n",
    "def prase_to_vec(lst,days):\n",
    "    vec=np.zeros(2)\n",
    "    if lst:\n",
    "      before_D = re.findall(r\"(\\d+)D\", \" \".join(lst))\n",
    "      before_N = re.findall(r\"(\\d+)N\", \" \".join(lst))\n",
    "      before_P = re.findall(r\"(\\d+)P\", \" \".join(lst))\n",
    "        # print(before_D)    \n",
    "      if before_D:\n",
    "          vec[0] = (np.array(before_D).astype(int)).mean()\n",
    "      if before_N:\n",
    "          vec[1] = (np.array(before_N).astype(int)).mean()\n",
    "      if before_P:\n",
    "          vec[1]+=((np.array(before_P).astype(int)*days)/100).astype(float).mean()\n",
    "      return vec\n",
    "    return [0,0]\n",
    "#not in use\n",
    "def counry_code_to_continent(contry):\n",
    "    return COUNTRY_ALPHA2_TO_CONTINENT[contry]\n",
    "\n",
    "def remove_not_showing(lst):\n",
    "    return [strr for strr in lst if \"D\" in strr]"
   ]
  },
  {
   "cell_type": "code",
   "execution_count": 265,
   "metadata": {
    "id": "O68ht0lXRNTZ"
   },
   "outputs": [],
   "source": [
    "def data_preprocessing(full_data,train : bool):\n",
    "  features = []\n",
    "  #convert cancellation_datetime to binary clf\n",
    "  if train:\n",
    "    full_data.cancellation_datetime = full_data.cancellation_datetime.fillna(0).astype(bool).astype(int)\n",
    "  # remove h_booking_id \n",
    "  if \"h_booking_id\" in full_data.columns:\n",
    "    full_data = full_data.drop(columns=[\"h_booking_id\"],axis=1)\n",
    "  # add column of continent of each country  \n",
    "  full_data[\"continent\"] = full_data.origin_country_code.apply(counry_code_to_continent)\n",
    "  #same date features\n",
    "  full_data[\"day_year_checkin\"] = pd.to_datetime(full_data.checkin_date).dt.dayofyear\n",
    "  full_data[\"day_year_booked\"] = pd.to_datetime(full_data.booking_datetime).dt.dayofyear\n",
    "  full_data[\"days_before_checkin\"] = (pd.to_datetime(full_data.checkin_date)-pd.to_datetime(full_data.booking_datetime)).dt.days.abs()\n",
    "\n",
    "  #convert all date string to unix\n",
    "  for date_time_col_name in date_time_cols:\n",
    "      full_data[date_time_col_name] = (pd.to_datetime(full_data[date_time_col_name]).view(np.int64))/1000000000\n",
    "  # convert all categorial variable to dummies    \n",
    "  for has_unique_col_name in has_unique:\n",
    "      one_hot = pd.get_dummies(full_data[has_unique_col_name])\n",
    "      features.append(one_hot.columns)\n",
    "      full_data = full_data.drop(has_unique_col_name, axis=1)\n",
    "      full_data = full_data.join(one_hot)\n",
    "  for bool_col_name in bool_cols:\n",
    "      full_data[bool_col_name] = full_data[bool_col_name].astype(int)\n",
    "  # create num_of_booked_days col     \n",
    "  full_data['num_of_booked_days'] = full_data['checkout_date'] - full_data['checkin_date']\n",
    "  full_data['num_of_booked_days'] = full_data['num_of_booked_days']/(60*60*24)\n",
    "  # calc price_per_night\n",
    "  full_data[\"price_per_night\"] = full_data.original_selling_amount/full_data.num_of_booked_days\n",
    "  # creating 2 features payment_late_cancellation&norm_of_cancellation_policy from policy cancellation\n",
    "  str_vec = full_data.cancellation_policy_code.str.split(\"_\")\n",
    "  str_vec = str_vec.apply(remove_not_showing)\n",
    "  df1 = pd.DataFrame(list(pd.concat([str_vec,(full_data.num_of_booked_days)],axis=1).apply(lambda x: prase_to_vec(x[0], x[1]), axis=1)),columns=[\"D\",\"N\"])\n",
    "  df2 = pd.concat([df1[\"N\"],full_data[\"price_per_night\"]],axis=1)\n",
    "  full_data[\"payment_late_cancellation\"] = df2[\"N\"]*df2[\"price_per_night\"]\n",
    "  scale_df1 = df1/(365,30)\n",
    "  full_data[\"norm_of_cancellation_policy\"]=np.linalg.norm(scale_df1,ord=1,axis=1)\n",
    "  full_data[\"days_befor_pay_cancellation\"] = df1.D\n",
    "  full_data[\"num_of_request\"] = (full_data.iloc[:,27:34].fillna(0)!=0).sum(axis=1)\n",
    "  return full_data,features"
   ]
  },
  {
   "cell_type": "code",
   "execution_count": null,
   "metadata": {
    "colab": {
     "base_uri": "https://localhost:8080/",
     "height": 142
    },
    "id": "BwkkoLJkRNdk",
    "outputId": "6d04aa8a-bde9-4e59-cb9f-d16138cf25d7"
   },
   "outputs": [
    {
     "data": {
      "text/html": [
       "\n",
       "  <div id=\"df-9325d04d-bd4e-44b8-b68c-590212358ca6\">\n",
       "    <div class=\"colab-df-container\">\n",
       "      <div>\n",
       "<style scoped>\n",
       "    .dataframe tbody tr th:only-of-type {\n",
       "        vertical-align: middle;\n",
       "    }\n",
       "\n",
       "    .dataframe tbody tr th {\n",
       "        vertical-align: top;\n",
       "    }\n",
       "\n",
       "    .dataframe thead th {\n",
       "        text-align: right;\n",
       "    }\n",
       "</style>\n",
       "<table border=\"1\" class=\"dataframe\">\n",
       "  <thead>\n",
       "    <tr style=\"text-align: right;\">\n",
       "      <th></th>\n",
       "      <th>h_booking_id</th>\n",
       "      <th>booking_datetime</th>\n",
       "      <th>checkin_date</th>\n",
       "      <th>checkout_date</th>\n",
       "      <th>hotel_id</th>\n",
       "      <th>hotel_country_code</th>\n",
       "      <th>hotel_live_date</th>\n",
       "      <th>hotel_star_rating</th>\n",
       "      <th>accommadation_type_name</th>\n",
       "      <th>charge_option</th>\n",
       "      <th>...</th>\n",
       "      <th>request_latecheckin</th>\n",
       "      <th>request_highfloor</th>\n",
       "      <th>request_largebed</th>\n",
       "      <th>request_twinbeds</th>\n",
       "      <th>request_airport</th>\n",
       "      <th>request_earlycheckin</th>\n",
       "      <th>hotel_area_code</th>\n",
       "      <th>hotel_brand_code</th>\n",
       "      <th>hotel_chain_code</th>\n",
       "      <th>hotel_city_code</th>\n",
       "    </tr>\n",
       "  </thead>\n",
       "  <tbody>\n",
       "  </tbody>\n",
       "</table>\n",
       "<p>0 rows × 38 columns</p>\n",
       "</div>\n",
       "      <button class=\"colab-df-convert\" onclick=\"convertToInteractive('df-9325d04d-bd4e-44b8-b68c-590212358ca6')\"\n",
       "              title=\"Convert this dataframe to an interactive table.\"\n",
       "              style=\"display:none;\">\n",
       "        \n",
       "  <svg xmlns=\"http://www.w3.org/2000/svg\" height=\"24px\"viewBox=\"0 0 24 24\"\n",
       "       width=\"24px\">\n",
       "    <path d=\"M0 0h24v24H0V0z\" fill=\"none\"/>\n",
       "    <path d=\"M18.56 5.44l.94 2.06.94-2.06 2.06-.94-2.06-.94-.94-2.06-.94 2.06-2.06.94zm-11 1L8.5 8.5l.94-2.06 2.06-.94-2.06-.94L8.5 2.5l-.94 2.06-2.06.94zm10 10l.94 2.06.94-2.06 2.06-.94-2.06-.94-.94-2.06-.94 2.06-2.06.94z\"/><path d=\"M17.41 7.96l-1.37-1.37c-.4-.4-.92-.59-1.43-.59-.52 0-1.04.2-1.43.59L10.3 9.45l-7.72 7.72c-.78.78-.78 2.05 0 2.83L4 21.41c.39.39.9.59 1.41.59.51 0 1.02-.2 1.41-.59l7.78-7.78 2.81-2.81c.8-.78.8-2.07 0-2.86zM5.41 20L4 18.59l7.72-7.72 1.47 1.35L5.41 20z\"/>\n",
       "  </svg>\n",
       "      </button>\n",
       "      \n",
       "  <style>\n",
       "    .colab-df-container {\n",
       "      display:flex;\n",
       "      flex-wrap:wrap;\n",
       "      gap: 12px;\n",
       "    }\n",
       "\n",
       "    .colab-df-convert {\n",
       "      background-color: #E8F0FE;\n",
       "      border: none;\n",
       "      border-radius: 50%;\n",
       "      cursor: pointer;\n",
       "      display: none;\n",
       "      fill: #1967D2;\n",
       "      height: 32px;\n",
       "      padding: 0 0 0 0;\n",
       "      width: 32px;\n",
       "    }\n",
       "\n",
       "    .colab-df-convert:hover {\n",
       "      background-color: #E2EBFA;\n",
       "      box-shadow: 0px 1px 2px rgba(60, 64, 67, 0.3), 0px 1px 3px 1px rgba(60, 64, 67, 0.15);\n",
       "      fill: #174EA6;\n",
       "    }\n",
       "\n",
       "    [theme=dark] .colab-df-convert {\n",
       "      background-color: #3B4455;\n",
       "      fill: #D2E3FC;\n",
       "    }\n",
       "\n",
       "    [theme=dark] .colab-df-convert:hover {\n",
       "      background-color: #434B5C;\n",
       "      box-shadow: 0px 1px 3px 1px rgba(0, 0, 0, 0.15);\n",
       "      filter: drop-shadow(0px 1px 2px rgba(0, 0, 0, 0.3));\n",
       "      fill: #FFFFFF;\n",
       "    }\n",
       "  </style>\n",
       "\n",
       "      <script>\n",
       "        const buttonEl =\n",
       "          document.querySelector('#df-9325d04d-bd4e-44b8-b68c-590212358ca6 button.colab-df-convert');\n",
       "        buttonEl.style.display =\n",
       "          google.colab.kernel.accessAllowed ? 'block' : 'none';\n",
       "\n",
       "        async function convertToInteractive(key) {\n",
       "          const element = document.querySelector('#df-9325d04d-bd4e-44b8-b68c-590212358ca6');\n",
       "          const dataTable =\n",
       "            await google.colab.kernel.invokeFunction('convertToInteractive',\n",
       "                                                     [key], {});\n",
       "          if (!dataTable) return;\n",
       "\n",
       "          const docLinkHtml = 'Like what you see? Visit the ' +\n",
       "            '<a target=\"_blank\" href=https://colab.research.google.com/notebooks/data_table.ipynb>data table notebook</a>'\n",
       "            + ' to learn more about interactive tables.';\n",
       "          element.innerHTML = '';\n",
       "          dataTable['output_type'] = 'display_data';\n",
       "          await google.colab.output.renderOutput(dataTable, element);\n",
       "          const docLink = document.createElement('div');\n",
       "          docLink.innerHTML = docLinkHtml;\n",
       "          element.appendChild(docLink);\n",
       "        }\n",
       "      </script>\n",
       "    </div>\n",
       "  </div>\n",
       "  "
      ],
      "text/plain": [
       "Empty DataFrame\n",
       "Columns: [h_booking_id, booking_datetime, checkin_date, checkout_date, hotel_id, hotel_country_code, hotel_live_date, hotel_star_rating, accommadation_type_name, charge_option, h_customer_id, customer_nationality, guest_is_not_the_customer, guest_nationality_country_name, no_of_adults, no_of_children, no_of_extra_bed, no_of_room, origin_country_code, language, original_selling_amount, original_payment_method, original_payment_type, original_payment_currency, is_user_logged_in, cancellation_policy_code, is_first_booking, request_nonesmoke, request_latecheckin, request_highfloor, request_largebed, request_twinbeds, request_airport, request_earlycheckin, hotel_area_code, hotel_brand_code, hotel_chain_code, hotel_city_code]\n",
       "Index: []\n",
       "\n",
       "[0 rows x 38 columns]"
      ]
     },
     "execution_count": 8,
     "metadata": {},
     "output_type": "execute_result"
    }
   ],
   "source": [
    "# full_data2 = pd.read_csv(io.BytesIO(uploaded[\"test_set_week_2.csv\"]))\n",
    "# match_to_test_dat(full_data2)\n",
    "# full_data2.loc[(full_data2.accommadation_type_name=='Chalet')]"
   ]
  },
  {
   "cell_type": "code",
   "execution_count": 330,
   "metadata": {
    "id": "3iqiwYLKPVD-"
   },
   "outputs": [],
   "source": [
    "\n",
    "def load_data(filename: str,train : bool,tree : bool):\n",
    "    \"\"\"\n",
    "    Load Agoda booking cancellation dataset\n",
    "    Parameters\n",
    "    ----------\n",
    "    filename: str\n",
    "        Path to house prices dataset\n",
    "\n",
    "    Returns\n",
    "    -------\n",
    "    Design matrix and response vector in either of the following formats:\n",
    "    1) Single dataframe with last column representing the response\n",
    "    2) Tuple of pandas.DataFrame and Series\n",
    "    3) Tuple of ndarray of shape (n_samples, n_features) and ndarray of shape (n_samples,)\n",
    "    \"\"\"\n",
    "    # TODO - replace below code with any desired preprocessing\n",
    "    if   run_in_colab and train:\n",
    "      full_data = pd.read_csv(io.BytesIO(uploaded[\"agoda_cancellation_train.csv\"]))\n",
    "    elif  run_in_colab and not train:\n",
    "      full_data = pd.read_csv(io.BytesIO(uploaded[\"test_set_week_4.csv\"]))\n",
    "    elif not run_in_colab and train:\n",
    "      full_data = pd.read_csv(data_path + filename)\n",
    "    else:  \n",
    "      full_data = pd.read_csv(data_path + filename)\n",
    "    full_data,one_hot_feature = data_preprocessing(full_data,train)\n",
    "    binary_data = full_data.select_dtypes([np.number]).columns[full_data.select_dtypes([np.number]).applymap(fillter_to_binary).all()]\n",
    "    bad_columns = ['Pay at Check-in','Chalet','Holiday Park / Caravan Park','Homestay','Inn', 'Lodge', 'Love Hotel']# becuase not in test set\n",
    "    one_hot_feature = [col_name for columns in one_hot_feature for col_name in columns if col_name not in bad_columns]\n",
    "    # we saw that num of rooms has high corr with num of adults so we can keep one of them.\n",
    "   \n",
    "    #original_payment_method, origin_country_code&guest_nationality_country_name, charge_option - add as features\n",
    "    \n",
    "    #looks like pyment method is not so informative becuase it is corralte with the comment ones\n",
    "    # wanted_features=[\"norm_of_cancellation_policy\",\"payment_late_cancellation\",\"booking_datetime\",\"checkin_date\",\"hotel_star_rating\",\"guest_is_not_the_customer\",\"no_of_children\",\"no_of_extra_bed\",\"no_of_room\",\"original_selling_amount\",\"is_user_logged_in\",\"is_first_booking\",\n",
    "    #              \"request_nonesmoke\",\"request_latecheckin\",\"request_highfloor\",\"request_twinbeds\",]+one_hot_feature\n",
    "    # wanted_features_tree = [\"norm_of_cancellation_policy\",\"payment_late_cancellation\",\"booking_datetime\",\"checkin_date\",\"hotel_star_rating\",\"guest_is_not_the_customer\",\"no_of_children\",\"no_of_extra_bed\",\"no_of_room\",\"original_selling_amount\",\"is_user_logged_in\",\"is_first_booking\",\n",
    "    #              \"request_nonesmoke\",\"request_latecheckin\",\"request_highfloor\",\"request_twinbeds\",\"hotel_area_code\",\"hotel_chain_code\"]+one_hot_feature\n",
    "    small_good_features = ['norm_of_cancellation_policy', 'payment_late_cancellation',\n",
    "       'booking_datetime', 'checkin_date', 'hotel_star_rating',\n",
    "       'original_selling_amount', 'hotel_area_code', 'hotel_chain_code',\n",
    "       'Pay Later', 'Pay Now',]\n",
    "    if tree:\n",
    "      features = full_data\n",
    "    else:  \n",
    "      features = full_data\n",
    "    features.fillna(0,inplace=True)\n",
    "    if train:\n",
    "      labels = full_data[\"cancellation_datetime\"]\n",
    "      return features, labels\n",
    "    return features\n",
    "\n",
    "\n"
   ]
  },
  {
   "cell_type": "code",
   "execution_count": null,
   "metadata": {
    "id": "ngd8o9b7mL71"
   },
   "outputs": [],
   "source": [
    "# full_data = pd.read_csv(io.BytesIO(uploaded[\"test_set_week_2.csv\"]))\n",
    "# for has_unique_col_name in has_unique:\n",
    "#   print(full_data[has_unique_col_name].unique())"
   ]
  },
  {
   "cell_type": "code",
   "execution_count": 331,
   "metadata": {
    "id": "ck8kzuyypdQr"
   },
   "outputs": [],
   "source": [
    "train_x,train_y = load_data(\"im on colab\",True,True)\n",
    "test_x = load_data(\"im on colab\",False,True)"
   ]
  },
  {
   "cell_type": "code",
   "execution_count": 301,
   "metadata": {
    "id": "KX_vmoPHJzzq"
   },
   "outputs": [],
   "source": [
    "\n",
    "# full_data = pd.read_csv(io.BytesIO(uploaded[\"agoda_cancellation_train.csv\"]))\n",
    "# test_weak3 = pd.read_csv(io.BytesIO(uploaded[\"test_set_week_3.csv\"]))\n",
    "# test_weak3,one_hot_feature = data_preprocessing(test_weak3,False)\n",
    "# test_weak3.fillna(0,inplace=True)"
   ]
  },
  {
   "cell_type": "code",
   "execution_count": 296,
   "metadata": {
    "id": "qNIIAI5cZDdO"
   },
   "outputs": [],
   "source": [
    "# test_weak2 = pd.read_csv(io.BytesIO(uploaded[\"test_set_week_2.csv\"]))\n",
    "# test_weak2,one_hot_feature = data_preprocessing(test_weak2,False)\n",
    "# test_weak2.fillna(0,inplace=True)"
   ]
  },
  {
   "cell_type": "code",
   "execution_count": 379,
   "metadata": {
    "id": "egvg1wtLJyfR"
   },
   "outputs": [],
   "source": [
    "small_good_features = ['norm_of_cancellation_policy', 'payment_late_cancellation','price_per_night','num_of_booked_days','days_befor_pay_cancellation'\n",
    ",'booking_datetime', 'checkin_date','hotel_star_rating','day_year_checkin',\n",
    "       'original_selling_amount', 'hotel_area_code',\n",
    "       'Pay Later', 'Pay Now','Asia', 'Hotel','Resort']#'Credit Card', 'Gift Card', 'Invoice', 'Europe', 'North America', 'Oceania','hotel_id'"
   ]
  },
  {
   "cell_type": "code",
   "execution_count": 380,
   "metadata": {
    "colab": {
     "base_uri": "https://localhost:8080/"
    },
    "id": "-a-7K4FRLSY8",
    "outputId": "26899856-5ffd-4f53-aa39-38c1bd183eaa"
   },
   "outputs": [
    {
     "name": "stdout",
     "output_type": "stream",
     "text": [
      "      Iter       Train Loss   Remaining Time \n",
      "         1           1.1215           34.86s\n",
      "         2           1.0878           30.14s\n",
      "         3           1.0605           29.67s\n",
      "         4           1.0383           28.53s\n",
      "         5           1.0200           28.42s\n",
      "         6           1.0047           27.60s\n",
      "         7           0.9920           25.81s\n",
      "         8           0.9811           24.41s\n",
      "         9           0.9721           23.18s\n",
      "        10           0.9642           22.22s\n",
      "        20           0.9253           16.71s\n",
      "        30           0.9025           13.70s\n",
      "        40           0.8898           11.34s\n",
      "        50           0.8808            9.25s\n",
      "        60           0.8747            7.30s\n",
      "        70           0.8703            5.42s\n",
      "        80           0.8665            3.58s\n",
      "        90           0.8629            1.78s\n",
      "       100           0.8604            0.00s\n"
     ]
    }
   ],
   "source": [
    "from sklearn.ensemble import GradientBoostingClassifier\n",
    "model = GradientBoostingClassifier(n_estimators=100,verbose=1,random_state=0).fit(train_x[small_good_features],train_y )\n"
   ]
  },
  {
   "cell_type": "code",
   "execution_count": 381,
   "metadata": {
    "colab": {
     "base_uri": "https://localhost:8080/"
    },
    "id": "DICbbr-4LoMO",
    "outputId": "ad85fea1-d126-4dff-9f79-1f1e452effeb"
   },
   "outputs": [
    {
     "name": "stdout",
     "output_type": "stream",
     "text": [
      "0.5087949101796407\n"
     ]
    }
   ],
   "source": [
    "from sklearn.metrics import f1_score\n",
    "print(f1_score(model.predict(test_weak2[small_good_features]), labels2, average='macro'))\n"
   ]
  },
  {
   "cell_type": "code",
   "execution_count": 382,
   "metadata": {
    "colab": {
     "base_uri": "https://localhost:8080/",
     "height": 17
    },
    "id": "vkX2wjF4RWDK",
    "outputId": "2fccb2d3-95de-4573-d0ca-2767b67e40c5"
   },
   "outputs": [
    {
     "data": {
      "application/javascript": [
       "\n",
       "    async function download(id, filename, size) {\n",
       "      if (!google.colab.kernel.accessAllowed) {\n",
       "        return;\n",
       "      }\n",
       "      const div = document.createElement('div');\n",
       "      const label = document.createElement('label');\n",
       "      label.textContent = `Downloading \"${filename}\": `;\n",
       "      div.appendChild(label);\n",
       "      const progress = document.createElement('progress');\n",
       "      progress.max = size;\n",
       "      div.appendChild(progress);\n",
       "      document.body.appendChild(div);\n",
       "\n",
       "      const buffers = [];\n",
       "      let downloaded = 0;\n",
       "\n",
       "      const channel = await google.colab.kernel.comms.open(id);\n",
       "      // Send a message to notify the kernel that we're ready.\n",
       "      channel.send({})\n",
       "\n",
       "      for await (const message of channel.messages) {\n",
       "        // Send a message to notify the kernel that we're ready.\n",
       "        channel.send({})\n",
       "        if (message.buffers) {\n",
       "          for (const buffer of message.buffers) {\n",
       "            buffers.push(buffer);\n",
       "            downloaded += buffer.byteLength;\n",
       "            progress.value = downloaded;\n",
       "          }\n",
       "        }\n",
       "      }\n",
       "      const blob = new Blob(buffers, {type: 'application/binary'});\n",
       "      const a = document.createElement('a');\n",
       "      a.href = window.URL.createObjectURL(blob);\n",
       "      a.download = filename;\n",
       "      div.appendChild(a);\n",
       "      a.click();\n",
       "      div.remove();\n",
       "    }\n",
       "  "
      ],
      "text/plain": [
       "<IPython.core.display.Javascript object>"
      ]
     },
     "metadata": {},
     "output_type": "display_data"
    },
    {
     "data": {
      "application/javascript": [
       "download(\"download_2d7f1fd8-da07-44a4-9885-1e2ebf460f82\", \"207047259_313450876_208346320.csv\", 1417)"
      ],
      "text/plain": [
       "<IPython.core.display.Javascript object>"
      ]
     },
     "metadata": {},
     "output_type": "display_data"
    }
   ],
   "source": [
    "from google.colab import files\n",
    "pd.DataFrame(model.predict(test_x[small_good_features]),columns=[\"predicted_values\"]).to_csv(\"207047259_313450876_208346320.csv\",index=False)\n",
    "files.download(\"207047259_313450876_208346320.csv\")"
   ]
  },
  {
   "cell_type": "code",
   "execution_count": 298,
   "metadata": {
    "id": "yHCf-mqzgv2t"
   },
   "outputs": [],
   "source": [
    "# labels3 = pd.read_csv(io.BytesIO(uploaded[\"test_set_week_3_labels.csv\"]))\n",
    "# labels3 = (labels3.iloc[:,0]).map(lambda x: x[-1]).astype(int)\n",
    "# labels2 = pd.read_csv(io.BytesIO(uploaded[\"test_set_labels_week_2.csv\"]))\n",
    "# labels2 = (labels2.iloc[:,0]).map(lambda x: x[-1]).astype(int)"
   ]
  },
  {
   "cell_type": "code",
   "execution_count": 307,
   "metadata": {
    "colab": {
     "base_uri": "https://localhost:8080/",
     "height": 381
    },
    "id": "rHP6WzzrbBW8",
    "outputId": "2a67a78e-83fc-40fb-8606-28ecea9246be"
   },
   "outputs": [
    {
     "data": {
      "text/html": [
       "\n",
       "  <div id=\"df-10ae7430-4598-41c0-90f9-41279a2734f5\">\n",
       "    <div class=\"colab-df-container\">\n",
       "      <div>\n",
       "<style scoped>\n",
       "    .dataframe tbody tr th:only-of-type {\n",
       "        vertical-align: middle;\n",
       "    }\n",
       "\n",
       "    .dataframe tbody tr th {\n",
       "        vertical-align: top;\n",
       "    }\n",
       "\n",
       "    .dataframe thead th {\n",
       "        text-align: right;\n",
       "    }\n",
       "</style>\n",
       "<table border=\"1\" class=\"dataframe\">\n",
       "  <thead>\n",
       "    <tr style=\"text-align: right;\">\n",
       "      <th></th>\n",
       "      <th>norm_of_cancellation_policy</th>\n",
       "      <th>payment_late_cancellation</th>\n",
       "      <th>price_per_night</th>\n",
       "      <th>num_of_booked_days</th>\n",
       "      <th>days_befor_pay_cancellation</th>\n",
       "      <th>booking_datetime</th>\n",
       "      <th>checkin_date</th>\n",
       "      <th>hotel_star_rating</th>\n",
       "      <th>hotel_id</th>\n",
       "      <th>day_year_checkin</th>\n",
       "      <th>Credit Card</th>\n",
       "      <th>Gift Card</th>\n",
       "      <th>Invoice</th>\n",
       "      <th>original_selling_amount</th>\n",
       "      <th>hotel_area_code</th>\n",
       "      <th>hotel_chain_code</th>\n",
       "      <th>Pay Later</th>\n",
       "      <th>Pay Now</th>\n",
       "      <th>Asia</th>\n",
       "      <th>Hotel</th>\n",
       "    </tr>\n",
       "  </thead>\n",
       "  <tbody>\n",
       "    <tr>\n",
       "      <th>count</th>\n",
       "      <td>700.000000</td>\n",
       "      <td>700.000000</td>\n",
       "      <td>700.000000</td>\n",
       "      <td>700.000000</td>\n",
       "      <td>700.000000</td>\n",
       "      <td>7.000000e+02</td>\n",
       "      <td>7.000000e+02</td>\n",
       "      <td>700.000000</td>\n",
       "      <td>7.000000e+02</td>\n",
       "      <td>700.000000</td>\n",
       "      <td>700.000000</td>\n",
       "      <td>700.000000</td>\n",
       "      <td>700.00000</td>\n",
       "      <td>700.00000</td>\n",
       "      <td>700.000000</td>\n",
       "      <td>700.000000</td>\n",
       "      <td>700.000000</td>\n",
       "      <td>700.000000</td>\n",
       "      <td>700.000000</td>\n",
       "      <td>700.000000</td>\n",
       "    </tr>\n",
       "    <tr>\n",
       "      <th>mean</th>\n",
       "      <td>0.277274</td>\n",
       "      <td>236.684815</td>\n",
       "      <td>135.304153</td>\n",
       "      <td>2.450000</td>\n",
       "      <td>79.227857</td>\n",
       "      <td>1.542473e+09</td>\n",
       "      <td>1.548835e+09</td>\n",
       "      <td>3.277857</td>\n",
       "      <td>1.600243e+06</td>\n",
       "      <td>167.982857</td>\n",
       "      <td>0.987143</td>\n",
       "      <td>0.002857</td>\n",
       "      <td>0.01000</td>\n",
       "      <td>315.49720</td>\n",
       "      <td>2950.665714</td>\n",
       "      <td>111.491429</td>\n",
       "      <td>0.461429</td>\n",
       "      <td>0.538571</td>\n",
       "      <td>0.802857</td>\n",
       "      <td>0.722857</td>\n",
       "    </tr>\n",
       "    <tr>\n",
       "      <th>std</th>\n",
       "      <td>0.407856</td>\n",
       "      <td>316.095458</td>\n",
       "      <td>138.752218</td>\n",
       "      <td>1.964364</td>\n",
       "      <td>143.056133</td>\n",
       "      <td>7.537732e+05</td>\n",
       "      <td>4.447349e+06</td>\n",
       "      <td>1.083896</td>\n",
       "      <td>1.593363e+06</td>\n",
       "      <td>154.289427</td>\n",
       "      <td>0.112739</td>\n",
       "      <td>0.053414</td>\n",
       "      <td>0.09957</td>\n",
       "      <td>393.51953</td>\n",
       "      <td>1725.082753</td>\n",
       "      <td>203.783803</td>\n",
       "      <td>0.498866</td>\n",
       "      <td>0.498866</td>\n",
       "      <td>0.398126</td>\n",
       "      <td>0.447908</td>\n",
       "    </tr>\n",
       "    <tr>\n",
       "      <th>min</th>\n",
       "      <td>0.000000</td>\n",
       "      <td>0.000000</td>\n",
       "      <td>6.080000</td>\n",
       "      <td>1.000000</td>\n",
       "      <td>0.000000</td>\n",
       "      <td>1.541036e+09</td>\n",
       "      <td>1.544918e+09</td>\n",
       "      <td>0.000000</td>\n",
       "      <td>1.780000e+02</td>\n",
       "      <td>1.000000</td>\n",
       "      <td>0.000000</td>\n",
       "      <td>0.000000</td>\n",
       "      <td>0.00000</td>\n",
       "      <td>11.30000</td>\n",
       "      <td>25.000000</td>\n",
       "      <td>0.000000</td>\n",
       "      <td>0.000000</td>\n",
       "      <td>0.000000</td>\n",
       "      <td>0.000000</td>\n",
       "      <td>0.000000</td>\n",
       "    </tr>\n",
       "    <tr>\n",
       "      <th>25%</th>\n",
       "      <td>0.038813</td>\n",
       "      <td>70.237500</td>\n",
       "      <td>58.042143</td>\n",
       "      <td>1.000000</td>\n",
       "      <td>1.000000</td>\n",
       "      <td>1.541840e+09</td>\n",
       "      <td>1.545955e+09</td>\n",
       "      <td>3.000000</td>\n",
       "      <td>2.676020e+05</td>\n",
       "      <td>28.000000</td>\n",
       "      <td>1.000000</td>\n",
       "      <td>0.000000</td>\n",
       "      <td>0.00000</td>\n",
       "      <td>95.21500</td>\n",
       "      <td>1411.000000</td>\n",
       "      <td>0.000000</td>\n",
       "      <td>0.000000</td>\n",
       "      <td>0.000000</td>\n",
       "      <td>1.000000</td>\n",
       "      <td>0.000000</td>\n",
       "    </tr>\n",
       "    <tr>\n",
       "      <th>50%</th>\n",
       "      <td>0.069406</td>\n",
       "      <td>136.595000</td>\n",
       "      <td>99.370000</td>\n",
       "      <td>2.000000</td>\n",
       "      <td>3.000000</td>\n",
       "      <td>1.542537e+09</td>\n",
       "      <td>1.547251e+09</td>\n",
       "      <td>3.000000</td>\n",
       "      <td>9.318240e+05</td>\n",
       "      <td>86.000000</td>\n",
       "      <td>1.000000</td>\n",
       "      <td>0.000000</td>\n",
       "      <td>0.00000</td>\n",
       "      <td>185.21500</td>\n",
       "      <td>2966.500000</td>\n",
       "      <td>0.000000</td>\n",
       "      <td>0.000000</td>\n",
       "      <td>1.000000</td>\n",
       "      <td>1.000000</td>\n",
       "      <td>1.000000</td>\n",
       "    </tr>\n",
       "    <tr>\n",
       "      <th>75%</th>\n",
       "      <td>0.199144</td>\n",
       "      <td>265.410000</td>\n",
       "      <td>155.475000</td>\n",
       "      <td>3.000000</td>\n",
       "      <td>31.000000</td>\n",
       "      <td>1.543181e+09</td>\n",
       "      <td>1.550102e+09</td>\n",
       "      <td>4.000000</td>\n",
       "      <td>2.697294e+06</td>\n",
       "      <td>356.000000</td>\n",
       "      <td>1.000000</td>\n",
       "      <td>0.000000</td>\n",
       "      <td>0.00000</td>\n",
       "      <td>364.45000</td>\n",
       "      <td>4463.000000</td>\n",
       "      <td>119.000000</td>\n",
       "      <td>1.000000</td>\n",
       "      <td>1.000000</td>\n",
       "      <td>1.000000</td>\n",
       "      <td>1.000000</td>\n",
       "    </tr>\n",
       "    <tr>\n",
       "      <th>max</th>\n",
       "      <td>1.400000</td>\n",
       "      <td>2695.590000</td>\n",
       "      <td>1045.720000</td>\n",
       "      <td>19.000000</td>\n",
       "      <td>365.000000</td>\n",
       "      <td>1.543620e+09</td>\n",
       "      <td>1.572912e+09</td>\n",
       "      <td>5.000000</td>\n",
       "      <td>5.929344e+06</td>\n",
       "      <td>365.000000</td>\n",
       "      <td>1.000000</td>\n",
       "      <td>1.000000</td>\n",
       "      <td>1.00000</td>\n",
       "      <td>3826.43000</td>\n",
       "      <td>5891.000000</td>\n",
       "      <td>679.000000</td>\n",
       "      <td>1.000000</td>\n",
       "      <td>1.000000</td>\n",
       "      <td>1.000000</td>\n",
       "      <td>1.000000</td>\n",
       "    </tr>\n",
       "  </tbody>\n",
       "</table>\n",
       "</div>\n",
       "      <button class=\"colab-df-convert\" onclick=\"convertToInteractive('df-10ae7430-4598-41c0-90f9-41279a2734f5')\"\n",
       "              title=\"Convert this dataframe to an interactive table.\"\n",
       "              style=\"display:none;\">\n",
       "        \n",
       "  <svg xmlns=\"http://www.w3.org/2000/svg\" height=\"24px\"viewBox=\"0 0 24 24\"\n",
       "       width=\"24px\">\n",
       "    <path d=\"M0 0h24v24H0V0z\" fill=\"none\"/>\n",
       "    <path d=\"M18.56 5.44l.94 2.06.94-2.06 2.06-.94-2.06-.94-.94-2.06-.94 2.06-2.06.94zm-11 1L8.5 8.5l.94-2.06 2.06-.94-2.06-.94L8.5 2.5l-.94 2.06-2.06.94zm10 10l.94 2.06.94-2.06 2.06-.94-2.06-.94-.94-2.06-.94 2.06-2.06.94z\"/><path d=\"M17.41 7.96l-1.37-1.37c-.4-.4-.92-.59-1.43-.59-.52 0-1.04.2-1.43.59L10.3 9.45l-7.72 7.72c-.78.78-.78 2.05 0 2.83L4 21.41c.39.39.9.59 1.41.59.51 0 1.02-.2 1.41-.59l7.78-7.78 2.81-2.81c.8-.78.8-2.07 0-2.86zM5.41 20L4 18.59l7.72-7.72 1.47 1.35L5.41 20z\"/>\n",
       "  </svg>\n",
       "      </button>\n",
       "      \n",
       "  <style>\n",
       "    .colab-df-container {\n",
       "      display:flex;\n",
       "      flex-wrap:wrap;\n",
       "      gap: 12px;\n",
       "    }\n",
       "\n",
       "    .colab-df-convert {\n",
       "      background-color: #E8F0FE;\n",
       "      border: none;\n",
       "      border-radius: 50%;\n",
       "      cursor: pointer;\n",
       "      display: none;\n",
       "      fill: #1967D2;\n",
       "      height: 32px;\n",
       "      padding: 0 0 0 0;\n",
       "      width: 32px;\n",
       "    }\n",
       "\n",
       "    .colab-df-convert:hover {\n",
       "      background-color: #E2EBFA;\n",
       "      box-shadow: 0px 1px 2px rgba(60, 64, 67, 0.3), 0px 1px 3px 1px rgba(60, 64, 67, 0.15);\n",
       "      fill: #174EA6;\n",
       "    }\n",
       "\n",
       "    [theme=dark] .colab-df-convert {\n",
       "      background-color: #3B4455;\n",
       "      fill: #D2E3FC;\n",
       "    }\n",
       "\n",
       "    [theme=dark] .colab-df-convert:hover {\n",
       "      background-color: #434B5C;\n",
       "      box-shadow: 0px 1px 3px 1px rgba(0, 0, 0, 0.15);\n",
       "      filter: drop-shadow(0px 1px 2px rgba(0, 0, 0, 0.3));\n",
       "      fill: #FFFFFF;\n",
       "    }\n",
       "  </style>\n",
       "\n",
       "      <script>\n",
       "        const buttonEl =\n",
       "          document.querySelector('#df-10ae7430-4598-41c0-90f9-41279a2734f5 button.colab-df-convert');\n",
       "        buttonEl.style.display =\n",
       "          google.colab.kernel.accessAllowed ? 'block' : 'none';\n",
       "\n",
       "        async function convertToInteractive(key) {\n",
       "          const element = document.querySelector('#df-10ae7430-4598-41c0-90f9-41279a2734f5');\n",
       "          const dataTable =\n",
       "            await google.colab.kernel.invokeFunction('convertToInteractive',\n",
       "                                                     [key], {});\n",
       "          if (!dataTable) return;\n",
       "\n",
       "          const docLinkHtml = 'Like what you see? Visit the ' +\n",
       "            '<a target=\"_blank\" href=https://colab.research.google.com/notebooks/data_table.ipynb>data table notebook</a>'\n",
       "            + ' to learn more about interactive tables.';\n",
       "          element.innerHTML = '';\n",
       "          dataTable['output_type'] = 'display_data';\n",
       "          await google.colab.output.renderOutput(dataTable, element);\n",
       "          const docLink = document.createElement('div');\n",
       "          docLink.innerHTML = docLinkHtml;\n",
       "          element.appendChild(docLink);\n",
       "        }\n",
       "      </script>\n",
       "    </div>\n",
       "  </div>\n",
       "  "
      ],
      "text/plain": [
       "       norm_of_cancellation_policy  payment_late_cancellation  \\\n",
       "count                   700.000000                 700.000000   \n",
       "mean                      0.277274                 236.684815   \n",
       "std                       0.407856                 316.095458   \n",
       "min                       0.000000                   0.000000   \n",
       "25%                       0.038813                  70.237500   \n",
       "50%                       0.069406                 136.595000   \n",
       "75%                       0.199144                 265.410000   \n",
       "max                       1.400000                2695.590000   \n",
       "\n",
       "       price_per_night  num_of_booked_days  days_befor_pay_cancellation  \\\n",
       "count       700.000000          700.000000                   700.000000   \n",
       "mean        135.304153            2.450000                    79.227857   \n",
       "std         138.752218            1.964364                   143.056133   \n",
       "min           6.080000            1.000000                     0.000000   \n",
       "25%          58.042143            1.000000                     1.000000   \n",
       "50%          99.370000            2.000000                     3.000000   \n",
       "75%         155.475000            3.000000                    31.000000   \n",
       "max        1045.720000           19.000000                   365.000000   \n",
       "\n",
       "       booking_datetime  checkin_date  hotel_star_rating      hotel_id  \\\n",
       "count      7.000000e+02  7.000000e+02         700.000000  7.000000e+02   \n",
       "mean       1.542473e+09  1.548835e+09           3.277857  1.600243e+06   \n",
       "std        7.537732e+05  4.447349e+06           1.083896  1.593363e+06   \n",
       "min        1.541036e+09  1.544918e+09           0.000000  1.780000e+02   \n",
       "25%        1.541840e+09  1.545955e+09           3.000000  2.676020e+05   \n",
       "50%        1.542537e+09  1.547251e+09           3.000000  9.318240e+05   \n",
       "75%        1.543181e+09  1.550102e+09           4.000000  2.697294e+06   \n",
       "max        1.543620e+09  1.572912e+09           5.000000  5.929344e+06   \n",
       "\n",
       "       day_year_checkin  Credit Card   Gift Card    Invoice  \\\n",
       "count        700.000000   700.000000  700.000000  700.00000   \n",
       "mean         167.982857     0.987143    0.002857    0.01000   \n",
       "std          154.289427     0.112739    0.053414    0.09957   \n",
       "min            1.000000     0.000000    0.000000    0.00000   \n",
       "25%           28.000000     1.000000    0.000000    0.00000   \n",
       "50%           86.000000     1.000000    0.000000    0.00000   \n",
       "75%          356.000000     1.000000    0.000000    0.00000   \n",
       "max          365.000000     1.000000    1.000000    1.00000   \n",
       "\n",
       "       original_selling_amount  hotel_area_code  hotel_chain_code   Pay Later  \\\n",
       "count                700.00000       700.000000        700.000000  700.000000   \n",
       "mean                 315.49720      2950.665714        111.491429    0.461429   \n",
       "std                  393.51953      1725.082753        203.783803    0.498866   \n",
       "min                   11.30000        25.000000          0.000000    0.000000   \n",
       "25%                   95.21500      1411.000000          0.000000    0.000000   \n",
       "50%                  185.21500      2966.500000          0.000000    0.000000   \n",
       "75%                  364.45000      4463.000000        119.000000    1.000000   \n",
       "max                 3826.43000      5891.000000        679.000000    1.000000   \n",
       "\n",
       "          Pay Now        Asia       Hotel  \n",
       "count  700.000000  700.000000  700.000000  \n",
       "mean     0.538571    0.802857    0.722857  \n",
       "std      0.498866    0.398126    0.447908  \n",
       "min      0.000000    0.000000    0.000000  \n",
       "25%      0.000000    1.000000    0.000000  \n",
       "50%      1.000000    1.000000    1.000000  \n",
       "75%      1.000000    1.000000    1.000000  \n",
       "max      1.000000    1.000000    1.000000  "
      ]
     },
     "execution_count": 307,
     "metadata": {},
     "output_type": "execute_result"
    }
   ],
   "source": [
    "# play_week_3 =  pd.concat((test_weak3,labels),axis=1)\n",
    "# play_week_3[small_good_features].describe()"
   ]
  },
  {
   "cell_type": "code",
   "execution_count": 374,
   "metadata": {
    "colab": {
     "base_uri": "https://localhost:8080/"
    },
    "id": "6SJm5IJyaJiH",
    "outputId": "36fd89d9-c552-4064-b59d-9c901369a2b4"
   },
   "outputs": [
    {
     "data": {
      "text/plain": [
       "468"
      ]
     },
     "execution_count": 374,
     "metadata": {},
     "output_type": "execute_result"
    }
   ],
   "source": [
    "test_weak2.Hotel.sum()"
   ]
  },
  {
   "cell_type": "code",
   "execution_count": 149,
   "metadata": {
    "colab": {
     "base_uri": "https://localhost:8080/"
    },
    "id": "7xrTgdk0F_ut",
    "outputId": "a281df0b-0e60-4f3e-ad0d-84395742a6f7"
   },
   "outputs": [
    {
     "data": {
      "text/plain": [
       "SelectFromModel(estimator=GradientBoostingClassifier(n_estimators=50))"
      ]
     },
     "execution_count": 149,
     "metadata": {},
     "output_type": "execute_result"
    }
   ],
   "source": [
    "# from sklearn.feature_selection import SelectFromModel\n",
    "# sel = SelectFromModel(GradientBoostingClassifier(n_estimators = 50))\n",
    "# sel.fit(train_x.select_dtypes(exclude=['object']), train_y)"
   ]
  },
  {
   "cell_type": "code",
   "execution_count": 367,
   "metadata": {
    "colab": {
     "base_uri": "https://localhost:8080/"
    },
    "id": "uckthjHNk0uU",
    "outputId": "b304bfc8-5022-41ca-a05b-8fb07bde1fd4"
   },
   "outputs": [
    {
     "data": {
      "text/plain": [
       "array([1.47673195e-01, 4.48952800e-03, 6.93780695e-03, 1.70385154e-02,\n",
       "       3.76137506e-02, 1.80236879e-01, 2.26668776e-02, 1.48785833e-02,\n",
       "       2.47081431e-02, 2.22252172e-02, 2.34782494e-03, 1.70511496e-02,\n",
       "       4.88887796e-01, 9.50539405e-03, 3.35636494e-03, 3.82975208e-04])"
      ]
     },
     "execution_count": 367,
     "metadata": {},
     "output_type": "execute_result"
    }
   ],
   "source": [
    "model.feature_importances_"
   ]
  },
  {
   "cell_type": "code",
   "execution_count": 368,
   "metadata": {
    "colab": {
     "base_uri": "https://localhost:8080/",
     "height": 35
    },
    "id": "sNQmmfskkqqq",
    "outputId": "24845758-fc90-4782-f9e0-522d353d7d54"
   },
   "outputs": [
    {
     "data": {
      "application/vnd.google.colaboratory.intrinsic+json": {
       "type": "string"
      },
      "text/plain": [
       "'Resort'"
      ]
     },
     "execution_count": 368,
     "metadata": {},
     "output_type": "execute_result"
    }
   ],
   "source": [
    "small_good_features[-1]"
   ]
  },
  {
   "cell_type": "code",
   "execution_count": null,
   "metadata": {
    "id": "iWmLCSkHuOu1"
   },
   "outputs": [],
   "source": [
    "# train_x.columns.size"
   ]
  },
  {
   "cell_type": "code",
   "execution_count": null,
   "metadata": {
    "id": "IFNs1sUQrpD1"
   },
   "outputs": [],
   "source": [
    "# [\"newton-cg\",\"lbfgs\", \"liblinear\", \"sag\", \"saga\"]\n",
    "# lr_clf = LogisticRegression(solver=\"lbfgs\")\n",
    "# dec_tree = DecisionTreeClassifier(min_samples_split=4)\n",
    "# tree = dec_tree.fit(train_x, train_y)\n",
    "# lr_clf.fit(train_x, train_y)\n"
   ]
  },
  {
   "cell_type": "code",
   "execution_count": null,
   "metadata": {
    "colab": {
     "base_uri": "https://localhost:8080/"
    },
    "id": "jnQxtRpcum0F",
    "outputId": "2c46a39e-80b8-47e8-af49-3274be6dd124"
   },
   "outputs": [
    {
     "data": {
      "text/plain": [
       "0.8714285714285714"
      ]
     },
     "execution_count": 46,
     "metadata": {},
     "output_type": "execute_result"
    }
   ],
   "source": [
    "# forest_cl = clf = RandomForestClassifier(n_estimators=50)\n",
    "# forest = forest_cl.fit(X=train_x,y=train_y)\n",
    "# forest.score(test_x,labels)"
   ]
  },
  {
   "cell_type": "code",
   "execution_count": null,
   "metadata": {
    "colab": {
     "base_uri": "https://localhost:8080/"
    },
    "id": "tsJ3DuDz7kPo",
    "outputId": "c27f7b98-6b3e-448d-da89-01e612869c1d"
   },
   "outputs": [
    {
     "data": {
      "text/plain": [
       "0.486820240461373"
      ]
     },
     "execution_count": 47,
     "metadata": {},
     "output_type": "execute_result"
    }
   ],
   "source": [
    "# f1_score(forest.predict(test_x), labels, average='macro')"
   ]
  },
  {
   "cell_type": "code",
   "execution_count": null,
   "metadata": {
    "colab": {
     "base_uri": "https://localhost:8080/",
     "height": 186
    },
    "id": "T94h_cVOu_jk",
    "outputId": "ce46b555-e5bd-4f0a-9ec7-1fe3ca2c5b39"
   },
   "outputs": [
    {
     "ename": "NameError",
     "evalue": "ignored",
     "output_type": "error",
     "traceback": [
      "\u001b[0;31m---------------------------------------------------------------------------\u001b[0m",
      "\u001b[0;31mNameError\u001b[0m                                 Traceback (most recent call last)",
      "\u001b[0;32m<ipython-input-45-bfa22990538e>\u001b[0m in \u001b[0;36m<module>\u001b[0;34m()\u001b[0m\n\u001b[0;32m----> 1\u001b[0;31m \u001b[0mforest_features\u001b[0m \u001b[0;34m=\u001b[0m \u001b[0mtrain_x\u001b[0m\u001b[0;34m.\u001b[0m\u001b[0mcolumns\u001b[0m\u001b[0;34m[\u001b[0m\u001b[0mforest\u001b[0m\u001b[0;34m.\u001b[0m\u001b[0mfeature_importances_\u001b[0m\u001b[0;34m>=\u001b[0m \u001b[0;36m0.01\u001b[0m\u001b[0;34m]\u001b[0m\u001b[0;34m\u001b[0m\u001b[0;34m\u001b[0m\u001b[0m\n\u001b[0m\u001b[1;32m      2\u001b[0m \u001b[0mforest_features\u001b[0m\u001b[0;34m\u001b[0m\u001b[0;34m\u001b[0m\u001b[0m\n",
      "\u001b[0;31mNameError\u001b[0m: name 'forest' is not defined"
     ]
    }
   ],
   "source": [
    "# forest_features = train_x.columns[forest.feature_importances_>= 0.01]\n",
    "# forest_features"
   ]
  },
  {
   "cell_type": "code",
   "execution_count": null,
   "metadata": {
    "id": "sMb-zwYnvT_0"
   },
   "outputs": [],
   "source": [
    "# from sklearn.model_selection import train_test_split\n",
    "\n",
    "# X_train2, X_test2, y_train2, y_test2 = train_test_split(\n",
    "# train_x, train_y, test_size=0.3, random_state=42)\n"
   ]
  },
  {
   "cell_type": "code",
   "execution_count": null,
   "metadata": {
    "id": "9MDbMI4hQJVO"
   },
   "outputs": [],
   "source": [
    "# dec_tree2 = DecisionTreeClassifier(max_depth=5, min_samples_leaf=5)\n",
    "# dec_tree2.fit(X_train2, y_train2)\n",
    "# lr_clf.fit(X_train2, y_train2)"
   ]
  },
  {
   "cell_type": "code",
   "execution_count": null,
   "metadata": {
    "id": "hwwJmxipQWpR"
   },
   "outputs": [],
   "source": [
    "# dec_tree2.score(X_test2,y_test2)"
   ]
  },
  {
   "cell_type": "code",
   "execution_count": null,
   "metadata": {
    "id": "oUPACl0NQe54"
   },
   "outputs": [],
   "source": [
    "# lr_clf.score(X_test2,y_test2)"
   ]
  },
  {
   "cell_type": "code",
   "execution_count": null,
   "metadata": {
    "id": "clEBoGlSRZWv"
   },
   "outputs": [],
   "source": [
    "\n",
    "\n",
    "# param_grid = {\n",
    "#     \"max_depth\": [3,5,10,15,20,None],\n",
    "#     \"min_samples_split\": [2,5,7,10],\n",
    "#     \"min_samples_leaf\": [1,2,5]\n",
    "# }\n",
    "\n",
    "# clf = DecisionTreeClassifier(random_state=42)\n",
    "# tree_grid_cv = GridSearchCV(clf, param_grid, scoring=\"roc_auc\",verbose=4 ,n_jobs=-1, cv=3).fit(train_x,train_y)"
   ]
  },
  {
   "cell_type": "code",
   "execution_count": null,
   "metadata": {
    "id": "RFatYNAzSUKh"
   },
   "outputs": [],
   "source": [
    "# ans = pd.DataFrame(grid_cv.cv_results_)\n",
    "# ans.sort_values(\"rank_test_score\").head(10)\n"
   ]
  },
  {
   "cell_type": "code",
   "execution_count": null,
   "metadata": {
    "id": "3-wOFf5OrfjD"
   },
   "outputs": [],
   "source": [
    "# param_grid_2 = {\n",
    "#     \"max_depth\": [5],\n",
    "#     \"min_samples_split\": [2,5,7,10],\n",
    "#     \"min_samples_leaf\": [1,2]\n",
    "# }\n",
    "# tree_grid_cv2 = GridSearchCV(clf, param_grid_2, scoring=\"roc_auc\",verbose=4 ,n_jobs=-1, cv=8).fit(train_x,train_y)"
   ]
  },
  {
   "cell_type": "code",
   "execution_count": null,
   "metadata": {
    "id": "yZ4naL0Jrh__"
   },
   "outputs": [],
   "source": [
    "# ans_2 = pd.DataFrame(tree_grid_cv2.cv_results_)\n",
    "# ans_2.sort_values(\"rank_test_score\").head(10)"
   ]
  },
  {
   "cell_type": "code",
   "execution_count": null,
   "metadata": {
    "id": "ZMaTxAkrSVwf"
   },
   "outputs": [],
   "source": [
    "# parameters = {\n",
    "#     'penalty' : ['l1','l2'], \n",
    "#     'C'       : np.logspace(-3,3,7),\n",
    "#     'solver'  : [\"saga\", 'liblinear'],\n",
    "# }\n",
    "# lr_clf = LogisticRegression(random_state=42)\n",
    "# reg_grid_cv = GridSearchCV(lr_clf, parameters, scoring=\"roc_auc\",verbose=4 ,n_jobs=-1, cv=3).fit(train_x,train_y)\n"
   ]
  },
  {
   "cell_type": "code",
   "execution_count": null,
   "metadata": {
    "id": "i_he6sg0f0lI"
   },
   "outputs": [],
   "source": [
    "# ans2 = pd.DataFrame(grid_cv2.cv_results_)\n",
    "# ans2.sort_values(\"rank_test_score\")\n"
   ]
  },
  {
   "cell_type": "code",
   "execution_count": null,
   "metadata": {
    "id": "jzGrzqjyf4Dm"
   },
   "outputs": [],
   "source": [
    "# best_featues_logostic = grid_cv2.best_estimator_\n",
    "# best_featues_logostic"
   ]
  },
  {
   "cell_type": "code",
   "execution_count": null,
   "metadata": {
    "id": "zC-5HPpdz5jc"
   },
   "outputs": [],
   "source": [
    "# lr_clf = LogisticRegression(penalty=\"l1\",C=1.0,solver=\"liblinear\",max_iter=1000,random_state=42)\n",
    "# lr_clf.fit(X=train_x[forest_features],y=train_y)"
   ]
  },
  {
   "cell_type": "code",
   "execution_count": null,
   "metadata": {
    "id": "Q1_uqcty4eZH"
   },
   "outputs": [],
   "source": [
    "# lr_clf.score(X=test_x[forest_features],y=labels)"
   ]
  },
  {
   "cell_type": "code",
   "execution_count": null,
   "metadata": {
    "id": "kTKwe89IRrzm"
   },
   "outputs": [],
   "source": [
    "# from google.colab import files\n",
    "# pd.DataFrame(lr_clf.predict(test_x),columns=[\"predicted_values\"]).to_csv(\"207047259.csv\",index=False)\n",
    "# files.download(\"207047259.csv\")"
   ]
  },
  {
   "cell_type": "code",
   "execution_count": null,
   "metadata": {
    "colab": {
     "base_uri": "https://localhost:8080/"
    },
    "id": "4WNf3Tu_EVVP",
    "outputId": "afa3c7a5-a158-456b-c9ce-db57b6669da6"
   },
   "outputs": [
    {
     "data": {
      "text/plain": [
       "SelectFromModel(estimator=LogisticRegression(penalty='l1', random_state=42,\n",
       "                                             solver='liblinear'))"
      ]
     },
     "execution_count": 17,
     "metadata": {},
     "output_type": "execute_result"
    }
   ],
   "source": [
    "# from sklearn.feature_selection import SelectFromModel\n",
    "# sel = SelectFromModel(LogisticRegression(penalty=\"l1\",C=1.0,solver=\"liblinear\",max_iter=100,random_state=42))\n",
    "# sel.fit(train_x, train_y)\n"
   ]
  },
  {
   "cell_type": "code",
   "execution_count": null,
   "metadata": {
    "id": "peKko9nI1P-v"
   },
   "outputs": [],
   "source": [
    "# reg_features = train_x.columns[sel.get_support()]"
   ]
  },
  {
   "cell_type": "code",
   "execution_count": null,
   "metadata": {
    "colab": {
     "base_uri": "https://localhost:8080/"
    },
    "id": "ULxFVGLL2a_Y",
    "outputId": "5d60cc9c-767c-4963-e8fb-f3aa7480628b"
   },
   "outputs": [
    {
     "name": "stderr",
     "output_type": "stream",
     "text": [
      "/usr/local/lib/python3.7/dist-packages/sklearn/svm/_base.py:1208: ConvergenceWarning: Liblinear failed to converge, increase the number of iterations.\n",
      "  ConvergenceWarning,\n"
     ]
    },
    {
     "data": {
      "text/plain": [
       "0.4125516606915246"
      ]
     },
     "execution_count": 49,
     "metadata": {},
     "output_type": "execute_result"
    }
   ],
   "source": [
    "# lr_clf = LogisticRegression(penalty=\"l1\",C=1.0,solver=\"liblinear\",max_iter=100,random_state=42)\n",
    "# lr_clf.fit(X=train_x,y=train_y)\n",
    "# f1_score(lr_clf.predict(test_x), labels, average='macro')"
   ]
  },
  {
   "cell_type": "code",
   "execution_count": null,
   "metadata": {
    "id": "GJ27-zS8zRvi"
   },
   "outputs": [],
   "source": [
    "# lr_clf = LogisticRegression(random_state=42)\n",
    "# parameters_2 = {\n",
    "#     'penalty' : ['l1'], \n",
    "#     'C'       : [1.0,10.0,100.0],\n",
    "#     'solver'  : ['liblinear'],\n",
    "# }\n",
    "# reg_grid_cv2 = GridSearchCV(lr_clf, parameters_2, scoring=\"roc_auc\",verbose=4 ,n_jobs=-1, cv=8).fit(train_x,train_y)"
   ]
  },
  {
   "cell_type": "code",
   "execution_count": 24,
   "metadata": {
    "id": "raq3vXWm_mai"
   },
   "outputs": [],
   "source": [
    "# small_good_features = ['norm_of_cancellation_policy', 'payment_late_cancellation',\n",
    "#        'booking_datetime', 'checkin_date', 'hotel_star_rating',\n",
    "#        'original_selling_amount', 'hotel_area_code', 'hotel_chain_code',\n",
    "#        'Pay Later', 'Pay Now', 'Africa', 'Asia', 'Europe', 'North America', 'Oceania',\n",
    "#        'South America', 'Hotel']#,'Unknown', 'Credit Card', 'Gift Card',\n",
    "       #'Invoice']"
   ]
  },
  {
   "cell_type": "code",
   "execution_count": 25,
   "metadata": {
    "id": "UuWRFZKX_o0C"
   },
   "outputs": [],
   "source": [
    "# from sklearn.ensemble import GradientBoostingClassifier\n",
    "# clf = GradientBoostingClassifier(n_estimators=100, learning_rate=1.0,max_depth=1, random_state=0).fit(train_x[small_good_features], train_y)\n",
    "# from sklearn.metrics import f1_score\n",
    "# f1_score(clf.predict(test_x[small_good_features]), labels, average='macro')"
   ]
  },
  {
   "cell_type": "code",
   "execution_count": 26,
   "metadata": {
    "colab": {
     "base_uri": "https://localhost:8080/"
    },
    "id": "mIbKsUMb476H",
    "outputId": "912d9067-2e67-42e9-96b3-723a9ca6f13f"
   },
   "outputs": [
    {
     "data": {
      "text/plain": [
       "0.4860499265785609"
      ]
     },
     "execution_count": 26,
     "metadata": {},
     "output_type": "execute_result"
    }
   ],
   "source": [
    "# from sklearn.metrics import f1_score\n",
    "# f1_score(clf.predict(test_x[small_good_features]), labels, average='macro')"
   ]
  },
  {
   "cell_type": "code",
   "execution_count": null,
   "metadata": {
    "colab": {
     "base_uri": "https://localhost:8080/"
    },
    "id": "YYZ23Z3DBux8",
    "outputId": "b8fa4571-7ef3-4d20-c704-c07659c1e9db"
   },
   "outputs": [
    {
     "data": {
      "text/plain": [
       "Index(['norm_of_cancellation_policy', 'payment_late_cancellation',\n",
       "       'booking_datetime', 'checkin_date', 'hotel_star_rating',\n",
       "       'guest_is_not_the_customer', 'no_of_children', 'no_of_extra_bed',\n",
       "       'no_of_room', 'original_selling_amount', 'is_user_logged_in',\n",
       "       'is_first_booking', 'request_nonesmoke', 'request_latecheckin',\n",
       "       'request_highfloor', 'request_twinbeds', 'hotel_area_code',\n",
       "       'hotel_chain_code', 'Pay Later', 'Pay Now', 'Credit Card', 'Gift Card',\n",
       "       'Invoice', 'Africa', 'Asia', 'Europe', 'North America', 'Oceania',\n",
       "       'South America', 'Unknown', 'Apartment', 'Boat / Cruise', 'Bungalow',\n",
       "       'Capsule Hotel', 'Guest House / Bed & Breakfast', 'Home', 'Hostel',\n",
       "       'Hotel', 'Motel', 'Private Villa', 'Resort', 'Resort Villa', 'Ryokan',\n",
       "       'Serviced Apartment', 'Tent', 'UNKNOWN'],\n",
       "      dtype='object')"
      ]
     },
     "execution_count": 15,
     "metadata": {},
     "output_type": "execute_result"
    }
   ],
   "source": [
    "# from google.colab import files\n",
    "# pd.DataFrame(model.predict(test_x[small_good_features]),columns=[\"predicted_values\"]).to_csv(\"207047259.csv\",index=False)\n",
    "# files.download(\"207047259.csv\")"
   ]
  },
  {
   "cell_type": "code",
   "execution_count": null,
   "metadata": {
    "colab": {
     "base_uri": "https://localhost:8080/"
    },
    "id": "-SGWdDIZ6KIx",
    "outputId": "856acd95-b6b0-4a83-fcab-70e971777131"
   },
   "outputs": [
    {
     "name": "stdout",
     "output_type": "stream",
     "text": [
      "Fitting 2 folds for each of 16 candidates, totalling 32 fits\n"
     ]
    }
   ],
   "source": [
    "# from sklearn.model_selection import GridSearchCV\n",
    "# parameters = {\n",
    "#     \"loss\":[\"deviance\"],\n",
    "#     \"learning_rate\": [0.01, 0.2],\n",
    "#     \"min_samples_split\": [0.1,0.5],\n",
    "#     \"min_samples_leaf\":[0.1,0.5],\n",
    "#     \"max_depth\":[3,5],\n",
    "#     \"max_features\":[\"log2\",\"sqrt\"],\n",
    "#     \"criterion\": [\"friedman_mse\",  \"mae\"],\n",
    "#     \"n_estimators\":[10]\n",
    "#     }\n",
    "# #passing the scoring function in the GridSearchCV\n",
    "# clf = GridSearchCV(GradientBoostingClassifier(), parameters,verbose=4,scoring=\"f1_macro\",refit=False,cv=2, n_jobs=-1).fit(train_x[small_good_features], train_y)"
   ]
  },
  {
   "cell_type": "code",
   "execution_count": null,
   "metadata": {
    "colab": {
     "base_uri": "https://localhost:8080/"
    },
    "id": "SPPUobc7AQbH",
    "outputId": "4d8e94da-019c-4089-a2cc-be25556afa68"
   },
   "outputs": [
    {
     "data": {
      "text/plain": [
       "{'criterion': 'friedman_mse',\n",
       " 'learning_rate': 0.01,\n",
       " 'loss': 'deviance',\n",
       " 'max_depth': 3,\n",
       " 'max_features': 'log2',\n",
       " 'n_estimators': 10}"
      ]
     },
     "execution_count": 27,
     "metadata": {},
     "output_type": "execute_result"
    }
   ],
   "source": [
    "# boost = pd.DataFrame(clf.cv_results_)\n",
    "# boost.sort_values(\"rank_test_score\").loc[0,\"params\"]\n"
   ]
  },
  {
   "cell_type": "code",
   "execution_count": null,
   "metadata": {
    "colab": {
     "base_uri": "https://localhost:8080/"
    },
    "id": "EIXrEYAiAn6e",
    "outputId": "643a2b7d-941d-4517-f798-4ad3c4f7aef7"
   },
   "outputs": [
    {
     "name": "stdout",
     "output_type": "stream",
     "text": [
      "0.4285864756688434\n"
     ]
    },
    {
     "data": {
      "text/plain": [
       "0.5241619964047796"
      ]
     },
     "execution_count": 57,
     "metadata": {},
     "output_type": "execute_result"
    }
   ],
   "source": [
    "# model = GradientBoostingClassifier(n_estimators=100,random_state=0).fit(train_x[small_good_features], train_y)\n",
    "# for_sub2 = GradientBoostingClassifier(n_estimators=100,learning_rate=1.0,random_state=0).fit(train_x[small_good_features], train_y)\n",
    "# from sklearn.metrics import f1_score\n",
    "# print(f1_score(for_sub2.predict(test_x[small_good_features]), labels, average='macro'))\n",
    "# f1_score(model.predict(test_x[small_good_features]), labels, average='macro')"
   ]
  },
  {
   "cell_type": "code",
   "execution_count": null,
   "metadata": {
    "id": "-J5WKpTxCCOk"
   },
   "outputs": [],
   "source": [
    "# week2 = pd.read_csv(io.BytesIO(uploaded[\"test_set_week_2.csv\"]))\n",
    "# week2_labels = pd.read_csv(io.BytesIO(uploaded[\"test_set_labels_week_2.csv\"]))\n",
    "# week2_labels = (week2_labels.iloc[:,0]).map(lambda x: x[-1]).astype(int)"
   ]
  },
  {
   "cell_type": "code",
   "execution_count": null,
   "metadata": {
    "id": "0t5H1_1_BhBo"
   },
   "outputs": [],
   "source": [
    "# full_data = pd.read_csv(io.BytesIO(uploaded[\"agoda_cancellation_train.csv\"]))\n",
    "# full_data.cancellation_datetime = full_data.cancellation_datetime.fillna(0).astype(bool).astype(int)"
   ]
  },
  {
   "cell_type": "code",
   "execution_count": null,
   "metadata": {
    "id": "Lq0ljaRzGTEZ"
   },
   "outputs": [],
   "source": []
  }
 ],
 "metadata": {
  "colab": {
   "collapsed_sections": [],
   "name": "data_challenge.ipynb",
   "provenance": []
  },
  "kernelspec": {
   "display_name": "Python 3 (ipykernel)",
   "language": "python",
   "name": "python3"
  },
  "language_info": {
   "codemirror_mode": {
    "name": "ipython",
    "version": 3
   },
   "file_extension": ".py",
   "mimetype": "text/x-python",
   "name": "python",
   "nbconvert_exporter": "python",
   "pygments_lexer": "ipython3",
   "version": "3.7.0"
  }
 },
 "nbformat": 4,
 "nbformat_minor": 1
}
